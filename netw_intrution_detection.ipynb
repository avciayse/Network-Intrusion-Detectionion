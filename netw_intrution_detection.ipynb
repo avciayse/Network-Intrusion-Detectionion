{
  "cells": [
    {
      "cell_type": "code",
      "execution_count": null,
      "metadata": {
        "id": "25nDn8-XY9Wc"
      },
      "outputs": [],
      "source": []
    },
    {
      "cell_type": "code",
      "execution_count": 3,
      "metadata": {
        "id": "rac_s68MULGq"
      },
      "outputs": [],
      "source": [
        "import numpy as np\n",
        "import pandas as pd\n",
        "import seaborn as sns\n",
        "import matplotlib.pyplot as plt\n",
        "from pandas.api.types import is_numeric_dtype\n",
        "import warnings\n",
        "from sklearn import tree\n",
        "from sklearn.model_selection import train_test_split\n",
        "from sklearn.neighbors import KNeighborsClassifier\n",
        "from sklearn.linear_model import LogisticRegression\n",
        "from sklearn.preprocessing import StandardScaler, LabelEncoder\n",
        "from sklearn.tree  import DecisionTreeClassifier\n",
        "from sklearn.ensemble import RandomForestClassifier, AdaBoostClassifier, VotingClassifier, GradientBoostingClassifier\n",
        "from sklearn.svm import SVC, LinearSVC\n",
        "from sklearn.naive_bayes import BernoulliNB\n",
        "from lightgbm import LGBMClassifier\n",
        "from sklearn.feature_selection import RFE\n",
        "import itertools\n",
        "from xgboost import XGBClassifier\n",
        "from tabulate import tabulate\n"
      ]
    },
    {
      "cell_type": "code",
      "execution_count": 4,
      "metadata": {
        "id": "xr889ESxVdcG"
      },
      "outputs": [],
      "source": [
        "train=pd.read_csv('C:/Users/avcia/OneDrive/Masaüstü/Veri madenciliği/veri setleri/Train_data.csv')"
      ]
    },
    {
      "cell_type": "code",
      "execution_count": 5,
      "metadata": {
        "id": "Q4Tj5NixVzwS"
      },
      "outputs": [],
      "source": [
        "test=pd.read_csv('C:/Users/avcia/OneDrive/Masaüstü/Veri madenciliği/veri setleri/Test_data.csv')"
      ]
    },
    {
      "cell_type": "code",
      "execution_count": 6,
      "metadata": {
        "colab": {
          "base_uri": "https://localhost:8080/",
          "height": 255
        },
        "id": "UVwRWygNV7Mz",
        "outputId": "02b62cc3-af52-477f-f3af-2e02de7451fc"
      },
      "outputs": [
        {
          "data": {
            "text/html": [
              "<div>\n",
              "<style scoped>\n",
              "    .dataframe tbody tr th:only-of-type {\n",
              "        vertical-align: middle;\n",
              "    }\n",
              "\n",
              "    .dataframe tbody tr th {\n",
              "        vertical-align: top;\n",
              "    }\n",
              "\n",
              "    .dataframe thead th {\n",
              "        text-align: right;\n",
              "    }\n",
              "</style>\n",
              "<table border=\"1\" class=\"dataframe\">\n",
              "  <thead>\n",
              "    <tr style=\"text-align: right;\">\n",
              "      <th></th>\n",
              "      <th>duration</th>\n",
              "      <th>protocol_type</th>\n",
              "      <th>service</th>\n",
              "      <th>flag</th>\n",
              "      <th>src_bytes</th>\n",
              "      <th>dst_bytes</th>\n",
              "      <th>land</th>\n",
              "      <th>wrong_fragment</th>\n",
              "      <th>urgent</th>\n",
              "      <th>hot</th>\n",
              "      <th>...</th>\n",
              "      <th>dst_host_srv_count</th>\n",
              "      <th>dst_host_same_srv_rate</th>\n",
              "      <th>dst_host_diff_srv_rate</th>\n",
              "      <th>dst_host_same_src_port_rate</th>\n",
              "      <th>dst_host_srv_diff_host_rate</th>\n",
              "      <th>dst_host_serror_rate</th>\n",
              "      <th>dst_host_srv_serror_rate</th>\n",
              "      <th>dst_host_rerror_rate</th>\n",
              "      <th>dst_host_srv_rerror_rate</th>\n",
              "      <th>class</th>\n",
              "    </tr>\n",
              "  </thead>\n",
              "  <tbody>\n",
              "    <tr>\n",
              "      <th>0</th>\n",
              "      <td>0</td>\n",
              "      <td>tcp</td>\n",
              "      <td>ftp_data</td>\n",
              "      <td>SF</td>\n",
              "      <td>491</td>\n",
              "      <td>0</td>\n",
              "      <td>0</td>\n",
              "      <td>0</td>\n",
              "      <td>0</td>\n",
              "      <td>0</td>\n",
              "      <td>...</td>\n",
              "      <td>25</td>\n",
              "      <td>0.17</td>\n",
              "      <td>0.03</td>\n",
              "      <td>0.17</td>\n",
              "      <td>0.00</td>\n",
              "      <td>0.00</td>\n",
              "      <td>0.00</td>\n",
              "      <td>0.05</td>\n",
              "      <td>0.00</td>\n",
              "      <td>normal</td>\n",
              "    </tr>\n",
              "    <tr>\n",
              "      <th>1</th>\n",
              "      <td>0</td>\n",
              "      <td>udp</td>\n",
              "      <td>other</td>\n",
              "      <td>SF</td>\n",
              "      <td>146</td>\n",
              "      <td>0</td>\n",
              "      <td>0</td>\n",
              "      <td>0</td>\n",
              "      <td>0</td>\n",
              "      <td>0</td>\n",
              "      <td>...</td>\n",
              "      <td>1</td>\n",
              "      <td>0.00</td>\n",
              "      <td>0.60</td>\n",
              "      <td>0.88</td>\n",
              "      <td>0.00</td>\n",
              "      <td>0.00</td>\n",
              "      <td>0.00</td>\n",
              "      <td>0.00</td>\n",
              "      <td>0.00</td>\n",
              "      <td>normal</td>\n",
              "    </tr>\n",
              "    <tr>\n",
              "      <th>2</th>\n",
              "      <td>0</td>\n",
              "      <td>tcp</td>\n",
              "      <td>private</td>\n",
              "      <td>S0</td>\n",
              "      <td>0</td>\n",
              "      <td>0</td>\n",
              "      <td>0</td>\n",
              "      <td>0</td>\n",
              "      <td>0</td>\n",
              "      <td>0</td>\n",
              "      <td>...</td>\n",
              "      <td>26</td>\n",
              "      <td>0.10</td>\n",
              "      <td>0.05</td>\n",
              "      <td>0.00</td>\n",
              "      <td>0.00</td>\n",
              "      <td>1.00</td>\n",
              "      <td>1.00</td>\n",
              "      <td>0.00</td>\n",
              "      <td>0.00</td>\n",
              "      <td>anomaly</td>\n",
              "    </tr>\n",
              "    <tr>\n",
              "      <th>3</th>\n",
              "      <td>0</td>\n",
              "      <td>tcp</td>\n",
              "      <td>http</td>\n",
              "      <td>SF</td>\n",
              "      <td>232</td>\n",
              "      <td>8153</td>\n",
              "      <td>0</td>\n",
              "      <td>0</td>\n",
              "      <td>0</td>\n",
              "      <td>0</td>\n",
              "      <td>...</td>\n",
              "      <td>255</td>\n",
              "      <td>1.00</td>\n",
              "      <td>0.00</td>\n",
              "      <td>0.03</td>\n",
              "      <td>0.04</td>\n",
              "      <td>0.03</td>\n",
              "      <td>0.01</td>\n",
              "      <td>0.00</td>\n",
              "      <td>0.01</td>\n",
              "      <td>normal</td>\n",
              "    </tr>\n",
              "    <tr>\n",
              "      <th>4</th>\n",
              "      <td>0</td>\n",
              "      <td>tcp</td>\n",
              "      <td>http</td>\n",
              "      <td>SF</td>\n",
              "      <td>199</td>\n",
              "      <td>420</td>\n",
              "      <td>0</td>\n",
              "      <td>0</td>\n",
              "      <td>0</td>\n",
              "      <td>0</td>\n",
              "      <td>...</td>\n",
              "      <td>255</td>\n",
              "      <td>1.00</td>\n",
              "      <td>0.00</td>\n",
              "      <td>0.00</td>\n",
              "      <td>0.00</td>\n",
              "      <td>0.00</td>\n",
              "      <td>0.00</td>\n",
              "      <td>0.00</td>\n",
              "      <td>0.00</td>\n",
              "      <td>normal</td>\n",
              "    </tr>\n",
              "  </tbody>\n",
              "</table>\n",
              "<p>5 rows × 42 columns</p>\n",
              "</div>"
            ],
            "text/plain": [
              "   duration protocol_type   service flag  src_bytes  dst_bytes  land  \\\n",
              "0         0           tcp  ftp_data   SF        491          0     0   \n",
              "1         0           udp     other   SF        146          0     0   \n",
              "2         0           tcp   private   S0          0          0     0   \n",
              "3         0           tcp      http   SF        232       8153     0   \n",
              "4         0           tcp      http   SF        199        420     0   \n",
              "\n",
              "   wrong_fragment  urgent  hot  ...  dst_host_srv_count  \\\n",
              "0               0       0    0  ...                  25   \n",
              "1               0       0    0  ...                   1   \n",
              "2               0       0    0  ...                  26   \n",
              "3               0       0    0  ...                 255   \n",
              "4               0       0    0  ...                 255   \n",
              "\n",
              "   dst_host_same_srv_rate  dst_host_diff_srv_rate  \\\n",
              "0                    0.17                    0.03   \n",
              "1                    0.00                    0.60   \n",
              "2                    0.10                    0.05   \n",
              "3                    1.00                    0.00   \n",
              "4                    1.00                    0.00   \n",
              "\n",
              "   dst_host_same_src_port_rate  dst_host_srv_diff_host_rate  \\\n",
              "0                         0.17                         0.00   \n",
              "1                         0.88                         0.00   \n",
              "2                         0.00                         0.00   \n",
              "3                         0.03                         0.04   \n",
              "4                         0.00                         0.00   \n",
              "\n",
              "   dst_host_serror_rate  dst_host_srv_serror_rate  dst_host_rerror_rate  \\\n",
              "0                  0.00                      0.00                  0.05   \n",
              "1                  0.00                      0.00                  0.00   \n",
              "2                  1.00                      1.00                  0.00   \n",
              "3                  0.03                      0.01                  0.00   \n",
              "4                  0.00                      0.00                  0.00   \n",
              "\n",
              "   dst_host_srv_rerror_rate    class  \n",
              "0                      0.00   normal  \n",
              "1                      0.00   normal  \n",
              "2                      0.00  anomaly  \n",
              "3                      0.01   normal  \n",
              "4                      0.00   normal  \n",
              "\n",
              "[5 rows x 42 columns]"
            ]
          },
          "execution_count": 6,
          "metadata": {},
          "output_type": "execute_result"
        }
      ],
      "source": [
        "train.head()"
      ]
    },
    {
      "cell_type": "code",
      "execution_count": 7,
      "metadata": {
        "colab": {
          "base_uri": "https://localhost:8080/"
        },
        "id": "4rgG76j3V-5f",
        "outputId": "55980c27-6844-4220-c37d-704d878a5e7f"
      },
      "outputs": [
        {
          "name": "stdout",
          "output_type": "stream",
          "text": [
            "<class 'pandas.core.frame.DataFrame'>\n",
            "RangeIndex: 25192 entries, 0 to 25191\n",
            "Data columns (total 42 columns):\n",
            " #   Column                       Non-Null Count  Dtype  \n",
            "---  ------                       --------------  -----  \n",
            " 0   duration                     25192 non-null  int64  \n",
            " 1   protocol_type                25192 non-null  object \n",
            " 2   service                      25192 non-null  object \n",
            " 3   flag                         25192 non-null  object \n",
            " 4   src_bytes                    25192 non-null  int64  \n",
            " 5   dst_bytes                    25192 non-null  int64  \n",
            " 6   land                         25192 non-null  int64  \n",
            " 7   wrong_fragment               25192 non-null  int64  \n",
            " 8   urgent                       25192 non-null  int64  \n",
            " 9   hot                          25192 non-null  int64  \n",
            " 10  num_failed_logins            25192 non-null  int64  \n",
            " 11  logged_in                    25192 non-null  int64  \n",
            " 12  num_compromised              25192 non-null  int64  \n",
            " 13  root_shell                   25192 non-null  int64  \n",
            " 14  su_attempted                 25192 non-null  int64  \n",
            " 15  num_root                     25192 non-null  int64  \n",
            " 16  num_file_creations           25192 non-null  int64  \n",
            " 17  num_shells                   25192 non-null  int64  \n",
            " 18  num_access_files             25192 non-null  int64  \n",
            " 19  num_outbound_cmds            25192 non-null  int64  \n",
            " 20  is_host_login                25192 non-null  int64  \n",
            " 21  is_guest_login               25192 non-null  int64  \n",
            " 22  count                        25192 non-null  int64  \n",
            " 23  srv_count                    25192 non-null  int64  \n",
            " 24  serror_rate                  25192 non-null  float64\n",
            " 25  srv_serror_rate              25192 non-null  float64\n",
            " 26  rerror_rate                  25192 non-null  float64\n",
            " 27  srv_rerror_rate              25192 non-null  float64\n",
            " 28  same_srv_rate                25192 non-null  float64\n",
            " 29  diff_srv_rate                25192 non-null  float64\n",
            " 30  srv_diff_host_rate           25192 non-null  float64\n",
            " 31  dst_host_count               25192 non-null  int64  \n",
            " 32  dst_host_srv_count           25192 non-null  int64  \n",
            " 33  dst_host_same_srv_rate       25192 non-null  float64\n",
            " 34  dst_host_diff_srv_rate       25192 non-null  float64\n",
            " 35  dst_host_same_src_port_rate  25192 non-null  float64\n",
            " 36  dst_host_srv_diff_host_rate  25192 non-null  float64\n",
            " 37  dst_host_serror_rate         25192 non-null  float64\n",
            " 38  dst_host_srv_serror_rate     25192 non-null  float64\n",
            " 39  dst_host_rerror_rate         25192 non-null  float64\n",
            " 40  dst_host_srv_rerror_rate     25192 non-null  float64\n",
            " 41  class                        25192 non-null  object \n",
            "dtypes: float64(15), int64(23), object(4)\n",
            "memory usage: 8.1+ MB\n"
          ]
        }
      ],
      "source": [
        "train.info()"
      ]
    },
    {
      "cell_type": "code",
      "execution_count": 8,
      "metadata": {
        "colab": {
          "base_uri": "https://localhost:8080/",
          "height": 349
        },
        "id": "1W64KVPPWBzp",
        "outputId": "3b2d0ce1-2f9a-41b5-a9ae-f639b18bbfa3"
      },
      "outputs": [
        {
          "data": {
            "text/html": [
              "<div>\n",
              "<style scoped>\n",
              "    .dataframe tbody tr th:only-of-type {\n",
              "        vertical-align: middle;\n",
              "    }\n",
              "\n",
              "    .dataframe tbody tr th {\n",
              "        vertical-align: top;\n",
              "    }\n",
              "\n",
              "    .dataframe thead th {\n",
              "        text-align: right;\n",
              "    }\n",
              "</style>\n",
              "<table border=\"1\" class=\"dataframe\">\n",
              "  <thead>\n",
              "    <tr style=\"text-align: right;\">\n",
              "      <th></th>\n",
              "      <th>duration</th>\n",
              "      <th>src_bytes</th>\n",
              "      <th>dst_bytes</th>\n",
              "      <th>land</th>\n",
              "      <th>wrong_fragment</th>\n",
              "      <th>urgent</th>\n",
              "      <th>hot</th>\n",
              "      <th>num_failed_logins</th>\n",
              "      <th>logged_in</th>\n",
              "      <th>num_compromised</th>\n",
              "      <th>...</th>\n",
              "      <th>dst_host_count</th>\n",
              "      <th>dst_host_srv_count</th>\n",
              "      <th>dst_host_same_srv_rate</th>\n",
              "      <th>dst_host_diff_srv_rate</th>\n",
              "      <th>dst_host_same_src_port_rate</th>\n",
              "      <th>dst_host_srv_diff_host_rate</th>\n",
              "      <th>dst_host_serror_rate</th>\n",
              "      <th>dst_host_srv_serror_rate</th>\n",
              "      <th>dst_host_rerror_rate</th>\n",
              "      <th>dst_host_srv_rerror_rate</th>\n",
              "    </tr>\n",
              "  </thead>\n",
              "  <tbody>\n",
              "    <tr>\n",
              "      <th>count</th>\n",
              "      <td>25192.000000</td>\n",
              "      <td>2.519200e+04</td>\n",
              "      <td>2.519200e+04</td>\n",
              "      <td>25192.000000</td>\n",
              "      <td>25192.000000</td>\n",
              "      <td>25192.00000</td>\n",
              "      <td>25192.000000</td>\n",
              "      <td>25192.000000</td>\n",
              "      <td>25192.000000</td>\n",
              "      <td>25192.000000</td>\n",
              "      <td>...</td>\n",
              "      <td>25192.000000</td>\n",
              "      <td>25192.000000</td>\n",
              "      <td>25192.000000</td>\n",
              "      <td>25192.000000</td>\n",
              "      <td>25192.000000</td>\n",
              "      <td>25192.000000</td>\n",
              "      <td>25192.000000</td>\n",
              "      <td>25192.000000</td>\n",
              "      <td>25192.000000</td>\n",
              "      <td>25192.000000</td>\n",
              "    </tr>\n",
              "    <tr>\n",
              "      <th>mean</th>\n",
              "      <td>305.054104</td>\n",
              "      <td>2.433063e+04</td>\n",
              "      <td>3.491847e+03</td>\n",
              "      <td>0.000079</td>\n",
              "      <td>0.023738</td>\n",
              "      <td>0.00004</td>\n",
              "      <td>0.198039</td>\n",
              "      <td>0.001191</td>\n",
              "      <td>0.394768</td>\n",
              "      <td>0.227850</td>\n",
              "      <td>...</td>\n",
              "      <td>182.532074</td>\n",
              "      <td>115.063036</td>\n",
              "      <td>0.519791</td>\n",
              "      <td>0.082539</td>\n",
              "      <td>0.147453</td>\n",
              "      <td>0.031844</td>\n",
              "      <td>0.285800</td>\n",
              "      <td>0.279846</td>\n",
              "      <td>0.117800</td>\n",
              "      <td>0.118769</td>\n",
              "    </tr>\n",
              "    <tr>\n",
              "      <th>std</th>\n",
              "      <td>2686.555640</td>\n",
              "      <td>2.410805e+06</td>\n",
              "      <td>8.883072e+04</td>\n",
              "      <td>0.008910</td>\n",
              "      <td>0.260221</td>\n",
              "      <td>0.00630</td>\n",
              "      <td>2.154202</td>\n",
              "      <td>0.045418</td>\n",
              "      <td>0.488811</td>\n",
              "      <td>10.417352</td>\n",
              "      <td>...</td>\n",
              "      <td>98.993895</td>\n",
              "      <td>110.646850</td>\n",
              "      <td>0.448944</td>\n",
              "      <td>0.187191</td>\n",
              "      <td>0.308367</td>\n",
              "      <td>0.110575</td>\n",
              "      <td>0.445316</td>\n",
              "      <td>0.446075</td>\n",
              "      <td>0.305869</td>\n",
              "      <td>0.317333</td>\n",
              "    </tr>\n",
              "    <tr>\n",
              "      <th>min</th>\n",
              "      <td>0.000000</td>\n",
              "      <td>0.000000e+00</td>\n",
              "      <td>0.000000e+00</td>\n",
              "      <td>0.000000</td>\n",
              "      <td>0.000000</td>\n",
              "      <td>0.00000</td>\n",
              "      <td>0.000000</td>\n",
              "      <td>0.000000</td>\n",
              "      <td>0.000000</td>\n",
              "      <td>0.000000</td>\n",
              "      <td>...</td>\n",
              "      <td>0.000000</td>\n",
              "      <td>0.000000</td>\n",
              "      <td>0.000000</td>\n",
              "      <td>0.000000</td>\n",
              "      <td>0.000000</td>\n",
              "      <td>0.000000</td>\n",
              "      <td>0.000000</td>\n",
              "      <td>0.000000</td>\n",
              "      <td>0.000000</td>\n",
              "      <td>0.000000</td>\n",
              "    </tr>\n",
              "    <tr>\n",
              "      <th>25%</th>\n",
              "      <td>0.000000</td>\n",
              "      <td>0.000000e+00</td>\n",
              "      <td>0.000000e+00</td>\n",
              "      <td>0.000000</td>\n",
              "      <td>0.000000</td>\n",
              "      <td>0.00000</td>\n",
              "      <td>0.000000</td>\n",
              "      <td>0.000000</td>\n",
              "      <td>0.000000</td>\n",
              "      <td>0.000000</td>\n",
              "      <td>...</td>\n",
              "      <td>84.000000</td>\n",
              "      <td>10.000000</td>\n",
              "      <td>0.050000</td>\n",
              "      <td>0.000000</td>\n",
              "      <td>0.000000</td>\n",
              "      <td>0.000000</td>\n",
              "      <td>0.000000</td>\n",
              "      <td>0.000000</td>\n",
              "      <td>0.000000</td>\n",
              "      <td>0.000000</td>\n",
              "    </tr>\n",
              "    <tr>\n",
              "      <th>50%</th>\n",
              "      <td>0.000000</td>\n",
              "      <td>4.400000e+01</td>\n",
              "      <td>0.000000e+00</td>\n",
              "      <td>0.000000</td>\n",
              "      <td>0.000000</td>\n",
              "      <td>0.00000</td>\n",
              "      <td>0.000000</td>\n",
              "      <td>0.000000</td>\n",
              "      <td>0.000000</td>\n",
              "      <td>0.000000</td>\n",
              "      <td>...</td>\n",
              "      <td>255.000000</td>\n",
              "      <td>61.000000</td>\n",
              "      <td>0.510000</td>\n",
              "      <td>0.030000</td>\n",
              "      <td>0.000000</td>\n",
              "      <td>0.000000</td>\n",
              "      <td>0.000000</td>\n",
              "      <td>0.000000</td>\n",
              "      <td>0.000000</td>\n",
              "      <td>0.000000</td>\n",
              "    </tr>\n",
              "    <tr>\n",
              "      <th>75%</th>\n",
              "      <td>0.000000</td>\n",
              "      <td>2.790000e+02</td>\n",
              "      <td>5.302500e+02</td>\n",
              "      <td>0.000000</td>\n",
              "      <td>0.000000</td>\n",
              "      <td>0.00000</td>\n",
              "      <td>0.000000</td>\n",
              "      <td>0.000000</td>\n",
              "      <td>1.000000</td>\n",
              "      <td>0.000000</td>\n",
              "      <td>...</td>\n",
              "      <td>255.000000</td>\n",
              "      <td>255.000000</td>\n",
              "      <td>1.000000</td>\n",
              "      <td>0.070000</td>\n",
              "      <td>0.060000</td>\n",
              "      <td>0.020000</td>\n",
              "      <td>1.000000</td>\n",
              "      <td>1.000000</td>\n",
              "      <td>0.000000</td>\n",
              "      <td>0.000000</td>\n",
              "    </tr>\n",
              "    <tr>\n",
              "      <th>max</th>\n",
              "      <td>42862.000000</td>\n",
              "      <td>3.817091e+08</td>\n",
              "      <td>5.151385e+06</td>\n",
              "      <td>1.000000</td>\n",
              "      <td>3.000000</td>\n",
              "      <td>1.00000</td>\n",
              "      <td>77.000000</td>\n",
              "      <td>4.000000</td>\n",
              "      <td>1.000000</td>\n",
              "      <td>884.000000</td>\n",
              "      <td>...</td>\n",
              "      <td>255.000000</td>\n",
              "      <td>255.000000</td>\n",
              "      <td>1.000000</td>\n",
              "      <td>1.000000</td>\n",
              "      <td>1.000000</td>\n",
              "      <td>1.000000</td>\n",
              "      <td>1.000000</td>\n",
              "      <td>1.000000</td>\n",
              "      <td>1.000000</td>\n",
              "      <td>1.000000</td>\n",
              "    </tr>\n",
              "  </tbody>\n",
              "</table>\n",
              "<p>8 rows × 38 columns</p>\n",
              "</div>"
            ],
            "text/plain": [
              "           duration     src_bytes     dst_bytes          land  wrong_fragment  \\\n",
              "count  25192.000000  2.519200e+04  2.519200e+04  25192.000000    25192.000000   \n",
              "mean     305.054104  2.433063e+04  3.491847e+03      0.000079        0.023738   \n",
              "std     2686.555640  2.410805e+06  8.883072e+04      0.008910        0.260221   \n",
              "min        0.000000  0.000000e+00  0.000000e+00      0.000000        0.000000   \n",
              "25%        0.000000  0.000000e+00  0.000000e+00      0.000000        0.000000   \n",
              "50%        0.000000  4.400000e+01  0.000000e+00      0.000000        0.000000   \n",
              "75%        0.000000  2.790000e+02  5.302500e+02      0.000000        0.000000   \n",
              "max    42862.000000  3.817091e+08  5.151385e+06      1.000000        3.000000   \n",
              "\n",
              "            urgent           hot  num_failed_logins     logged_in  \\\n",
              "count  25192.00000  25192.000000       25192.000000  25192.000000   \n",
              "mean       0.00004      0.198039           0.001191      0.394768   \n",
              "std        0.00630      2.154202           0.045418      0.488811   \n",
              "min        0.00000      0.000000           0.000000      0.000000   \n",
              "25%        0.00000      0.000000           0.000000      0.000000   \n",
              "50%        0.00000      0.000000           0.000000      0.000000   \n",
              "75%        0.00000      0.000000           0.000000      1.000000   \n",
              "max        1.00000     77.000000           4.000000      1.000000   \n",
              "\n",
              "       num_compromised  ...  dst_host_count  dst_host_srv_count  \\\n",
              "count     25192.000000  ...    25192.000000        25192.000000   \n",
              "mean          0.227850  ...      182.532074          115.063036   \n",
              "std          10.417352  ...       98.993895          110.646850   \n",
              "min           0.000000  ...        0.000000            0.000000   \n",
              "25%           0.000000  ...       84.000000           10.000000   \n",
              "50%           0.000000  ...      255.000000           61.000000   \n",
              "75%           0.000000  ...      255.000000          255.000000   \n",
              "max         884.000000  ...      255.000000          255.000000   \n",
              "\n",
              "       dst_host_same_srv_rate  dst_host_diff_srv_rate  \\\n",
              "count            25192.000000            25192.000000   \n",
              "mean                 0.519791                0.082539   \n",
              "std                  0.448944                0.187191   \n",
              "min                  0.000000                0.000000   \n",
              "25%                  0.050000                0.000000   \n",
              "50%                  0.510000                0.030000   \n",
              "75%                  1.000000                0.070000   \n",
              "max                  1.000000                1.000000   \n",
              "\n",
              "       dst_host_same_src_port_rate  dst_host_srv_diff_host_rate  \\\n",
              "count                 25192.000000                 25192.000000   \n",
              "mean                      0.147453                     0.031844   \n",
              "std                       0.308367                     0.110575   \n",
              "min                       0.000000                     0.000000   \n",
              "25%                       0.000000                     0.000000   \n",
              "50%                       0.000000                     0.000000   \n",
              "75%                       0.060000                     0.020000   \n",
              "max                       1.000000                     1.000000   \n",
              "\n",
              "       dst_host_serror_rate  dst_host_srv_serror_rate  dst_host_rerror_rate  \\\n",
              "count          25192.000000              25192.000000          25192.000000   \n",
              "mean               0.285800                  0.279846              0.117800   \n",
              "std                0.445316                  0.446075              0.305869   \n",
              "min                0.000000                  0.000000              0.000000   \n",
              "25%                0.000000                  0.000000              0.000000   \n",
              "50%                0.000000                  0.000000              0.000000   \n",
              "75%                1.000000                  1.000000              0.000000   \n",
              "max                1.000000                  1.000000              1.000000   \n",
              "\n",
              "       dst_host_srv_rerror_rate  \n",
              "count              25192.000000  \n",
              "mean                   0.118769  \n",
              "std                    0.317333  \n",
              "min                    0.000000  \n",
              "25%                    0.000000  \n",
              "50%                    0.000000  \n",
              "75%                    0.000000  \n",
              "max                    1.000000  \n",
              "\n",
              "[8 rows x 38 columns]"
            ]
          },
          "execution_count": 8,
          "metadata": {},
          "output_type": "execute_result"
        }
      ],
      "source": [
        "train.describe()"
      ]
    },
    {
      "cell_type": "code",
      "execution_count": 9,
      "metadata": {
        "colab": {
          "base_uri": "https://localhost:8080/",
          "height": 175
        },
        "id": "EGiHa--gWGlh",
        "outputId": "0a1e7e31-34db-4845-de22-6a26946f4446"
      },
      "outputs": [
        {
          "data": {
            "text/html": [
              "<div>\n",
              "<style scoped>\n",
              "    .dataframe tbody tr th:only-of-type {\n",
              "        vertical-align: middle;\n",
              "    }\n",
              "\n",
              "    .dataframe tbody tr th {\n",
              "        vertical-align: top;\n",
              "    }\n",
              "\n",
              "    .dataframe thead th {\n",
              "        text-align: right;\n",
              "    }\n",
              "</style>\n",
              "<table border=\"1\" class=\"dataframe\">\n",
              "  <thead>\n",
              "    <tr style=\"text-align: right;\">\n",
              "      <th></th>\n",
              "      <th>protocol_type</th>\n",
              "      <th>service</th>\n",
              "      <th>flag</th>\n",
              "      <th>class</th>\n",
              "    </tr>\n",
              "  </thead>\n",
              "  <tbody>\n",
              "    <tr>\n",
              "      <th>count</th>\n",
              "      <td>25192</td>\n",
              "      <td>25192</td>\n",
              "      <td>25192</td>\n",
              "      <td>25192</td>\n",
              "    </tr>\n",
              "    <tr>\n",
              "      <th>unique</th>\n",
              "      <td>3</td>\n",
              "      <td>66</td>\n",
              "      <td>11</td>\n",
              "      <td>2</td>\n",
              "    </tr>\n",
              "    <tr>\n",
              "      <th>top</th>\n",
              "      <td>tcp</td>\n",
              "      <td>http</td>\n",
              "      <td>SF</td>\n",
              "      <td>normal</td>\n",
              "    </tr>\n",
              "    <tr>\n",
              "      <th>freq</th>\n",
              "      <td>20526</td>\n",
              "      <td>8003</td>\n",
              "      <td>14973</td>\n",
              "      <td>13449</td>\n",
              "    </tr>\n",
              "  </tbody>\n",
              "</table>\n",
              "</div>"
            ],
            "text/plain": [
              "       protocol_type service   flag   class\n",
              "count          25192   25192  25192   25192\n",
              "unique             3      66     11       2\n",
              "top              tcp    http     SF  normal\n",
              "freq           20526    8003  14973   13449"
            ]
          },
          "execution_count": 9,
          "metadata": {},
          "output_type": "execute_result"
        }
      ],
      "source": [
        "train.describe(include='object')"
      ]
    },
    {
      "cell_type": "code",
      "execution_count": 10,
      "metadata": {
        "colab": {
          "base_uri": "https://localhost:8080/"
        },
        "id": "rFl859YOWKcW",
        "outputId": "6aa5d2b0-5b6a-4f0c-e7f7-9e12f0515f7f"
      },
      "outputs": [
        {
          "data": {
            "text/plain": [
              "(25192, 42)"
            ]
          },
          "execution_count": 10,
          "metadata": {},
          "output_type": "execute_result"
        }
      ],
      "source": [
        "train.shape"
      ]
    },
    {
      "cell_type": "code",
      "execution_count": 11,
      "metadata": {
        "colab": {
          "base_uri": "https://localhost:8080/"
        },
        "id": "EKFrn7fyWTJy",
        "outputId": "86936554-05e1-418e-e5e7-d75e86b2f8f5"
      },
      "outputs": [
        {
          "data": {
            "text/plain": [
              "duration                       0\n",
              "protocol_type                  0\n",
              "service                        0\n",
              "flag                           0\n",
              "src_bytes                      0\n",
              "dst_bytes                      0\n",
              "land                           0\n",
              "wrong_fragment                 0\n",
              "urgent                         0\n",
              "hot                            0\n",
              "num_failed_logins              0\n",
              "logged_in                      0\n",
              "num_compromised                0\n",
              "root_shell                     0\n",
              "su_attempted                   0\n",
              "num_root                       0\n",
              "num_file_creations             0\n",
              "num_shells                     0\n",
              "num_access_files               0\n",
              "num_outbound_cmds              0\n",
              "is_host_login                  0\n",
              "is_guest_login                 0\n",
              "count                          0\n",
              "srv_count                      0\n",
              "serror_rate                    0\n",
              "srv_serror_rate                0\n",
              "rerror_rate                    0\n",
              "srv_rerror_rate                0\n",
              "same_srv_rate                  0\n",
              "diff_srv_rate                  0\n",
              "srv_diff_host_rate             0\n",
              "dst_host_count                 0\n",
              "dst_host_srv_count             0\n",
              "dst_host_same_srv_rate         0\n",
              "dst_host_diff_srv_rate         0\n",
              "dst_host_same_src_port_rate    0\n",
              "dst_host_srv_diff_host_rate    0\n",
              "dst_host_serror_rate           0\n",
              "dst_host_srv_serror_rate       0\n",
              "dst_host_rerror_rate           0\n",
              "dst_host_srv_rerror_rate       0\n",
              "class                          0\n",
              "dtype: int64"
            ]
          },
          "execution_count": 11,
          "metadata": {},
          "output_type": "execute_result"
        }
      ],
      "source": [
        "train.isnull().sum()"
      ]
    },
    {
      "cell_type": "code",
      "execution_count": 12,
      "metadata": {
        "id": "OabOI5SGB4Qs"
      },
      "outputs": [],
      "source": [
        "total = train.shape[0]\n",
        "missing_columns = [col for col in train.columns if train[col].isnull().sum() > 0]\n",
        "for col in missing_columns:\n",
        "    null_count = train[col].isnull().sum()\n",
        "    per = (null_count/total) * 100\n",
        "    print(f\"{col}: {null_count} ({round(per, 3)}%)\")"
      ]
    },
    {
      "cell_type": "code",
      "execution_count": 13,
      "metadata": {
        "colab": {
          "base_uri": "https://localhost:8080/"
        },
        "id": "PXHJVbd4B-RE",
        "outputId": "12296d4b-affa-4dde-aa38-0084a375e682"
      },
      "outputs": [
        {
          "name": "stdout",
          "output_type": "stream",
          "text": [
            "Number of duplicate rows: 0\n"
          ]
        }
      ],
      "source": [
        "print(f\"Number of duplicate rows: {train.duplicated().sum()}\")"
      ]
    },
    {
      "cell_type": "code",
      "execution_count": 14,
      "metadata": {
        "colab": {
          "base_uri": "https://localhost:8080/",
          "height": 470
        },
        "id": "op0OfFS0CDsX",
        "outputId": "714c31b9-0ff8-4b89-b8a7-0883a362f90f"
      },
      "outputs": [
        {
          "data": {
            "text/plain": [
              "<Axes: xlabel='class', ylabel='count'>"
            ]
          },
          "execution_count": 14,
          "metadata": {},
          "output_type": "execute_result"
        },
        {
          "data": {
            "image/png": "[encoded data removed]",
            "text/plain": [
              "<Figure size 640x480 with 1 Axes>"
            ]
          },
          "metadata": {},
          "output_type": "display_data"
        }
      ],
      "source": [
        "sns.countplot(x=train['class'])"
      ]
    },
    {
      "cell_type": "code",
      "execution_count": 15,
      "metadata": {
        "colab": {
          "base_uri": "https://localhost:8080/"
        },
        "id": "-ExlPfKQWZOZ",
        "outputId": "6f11913f-3cc5-4821-9eff-fe7a453770fa"
      },
      "outputs": [
        {
          "name": "stdout",
          "output_type": "stream",
          "text": [
            "Class distribution Training set:\n",
            "class\n",
            "normal     13449\n",
            "anomaly    11743\n",
            "Name: count, dtype: int64\n"
          ]
        }
      ],
      "source": [
        "print('Class distribution Training set:')\n",
        "print(train['class'].value_counts())"
      ]
    },
    {
      "cell_type": "code",
      "execution_count": 16,
      "metadata": {
        "id": "lm0pcky1Wsmh"
      },
      "outputs": [],
      "source": [
        "def le(df):\n",
        "    for col in df.columns:\n",
        "        if df[col].dtype == 'object':\n",
        "                label_encoder = LabelEncoder()\n",
        "                df[col] = label_encoder.fit_transform(df[col])\n",
        "\n",
        "le(train)\n",
        "le(test)"
      ]
    },
    {
      "cell_type": "code",
      "execution_count": 17,
      "metadata": {
        "id": "oZGaq2aQHW0x"
      },
      "outputs": [],
      "source": [
        "train.drop(['num_outbound_cmds'], axis=1, inplace=True)\n",
        "test.drop(['num_outbound_cmds'], axis=1, inplace=True)"
      ]
    },
    {
      "cell_type": "code",
      "execution_count": 18,
      "metadata": {
        "colab": {
          "base_uri": "https://localhost:8080/",
          "height": 255
        },
        "id": "4VZ9PSX8HbZ8",
        "outputId": "86c0f76c-ac81-46c1-e4a0-c8db1ea07b58"
      },
      "outputs": [
        {
          "data": {
            "text/html": [
              "<div>\n",
              "<style scoped>\n",
              "    .dataframe tbody tr th:only-of-type {\n",
              "        vertical-align: middle;\n",
              "    }\n",
              "\n",
              "    .dataframe tbody tr th {\n",
              "        vertical-align: top;\n",
              "    }\n",
              "\n",
              "    .dataframe thead th {\n",
              "        text-align: right;\n",
              "    }\n",
              "</style>\n",
              "<table border=\"1\" class=\"dataframe\">\n",
              "  <thead>\n",
              "    <tr style=\"text-align: right;\">\n",
              "      <th></th>\n",
              "      <th>duration</th>\n",
              "      <th>protocol_type</th>\n",
              "      <th>service</th>\n",
              "      <th>flag</th>\n",
              "      <th>src_bytes</th>\n",
              "      <th>dst_bytes</th>\n",
              "      <th>land</th>\n",
              "      <th>wrong_fragment</th>\n",
              "      <th>urgent</th>\n",
              "      <th>hot</th>\n",
              "      <th>...</th>\n",
              "      <th>dst_host_srv_count</th>\n",
              "      <th>dst_host_same_srv_rate</th>\n",
              "      <th>dst_host_diff_srv_rate</th>\n",
              "      <th>dst_host_same_src_port_rate</th>\n",
              "      <th>dst_host_srv_diff_host_rate</th>\n",
              "      <th>dst_host_serror_rate</th>\n",
              "      <th>dst_host_srv_serror_rate</th>\n",
              "      <th>dst_host_rerror_rate</th>\n",
              "      <th>dst_host_srv_rerror_rate</th>\n",
              "      <th>class</th>\n",
              "    </tr>\n",
              "  </thead>\n",
              "  <tbody>\n",
              "    <tr>\n",
              "      <th>0</th>\n",
              "      <td>0</td>\n",
              "      <td>1</td>\n",
              "      <td>19</td>\n",
              "      <td>9</td>\n",
              "      <td>491</td>\n",
              "      <td>0</td>\n",
              "      <td>0</td>\n",
              "      <td>0</td>\n",
              "      <td>0</td>\n",
              "      <td>0</td>\n",
              "      <td>...</td>\n",
              "      <td>25</td>\n",
              "      <td>0.17</td>\n",
              "      <td>0.03</td>\n",
              "      <td>0.17</td>\n",
              "      <td>0.00</td>\n",
              "      <td>0.00</td>\n",
              "      <td>0.00</td>\n",
              "      <td>0.05</td>\n",
              "      <td>0.00</td>\n",
              "      <td>1</td>\n",
              "    </tr>\n",
              "    <tr>\n",
              "      <th>1</th>\n",
              "      <td>0</td>\n",
              "      <td>2</td>\n",
              "      <td>41</td>\n",
              "      <td>9</td>\n",
              "      <td>146</td>\n",
              "      <td>0</td>\n",
              "      <td>0</td>\n",
              "      <td>0</td>\n",
              "      <td>0</td>\n",
              "      <td>0</td>\n",
              "      <td>...</td>\n",
              "      <td>1</td>\n",
              "      <td>0.00</td>\n",
              "      <td>0.60</td>\n",
              "      <td>0.88</td>\n",
              "      <td>0.00</td>\n",
              "      <td>0.00</td>\n",
              "      <td>0.00</td>\n",
              "      <td>0.00</td>\n",
              "      <td>0.00</td>\n",
              "      <td>1</td>\n",
              "    </tr>\n",
              "    <tr>\n",
              "      <th>2</th>\n",
              "      <td>0</td>\n",
              "      <td>1</td>\n",
              "      <td>46</td>\n",
              "      <td>5</td>\n",
              "      <td>0</td>\n",
              "      <td>0</td>\n",
              "      <td>0</td>\n",
              "      <td>0</td>\n",
              "      <td>0</td>\n",
              "      <td>0</td>\n",
              "      <td>...</td>\n",
              "      <td>26</td>\n",
              "      <td>0.10</td>\n",
              "      <td>0.05</td>\n",
              "      <td>0.00</td>\n",
              "      <td>0.00</td>\n",
              "      <td>1.00</td>\n",
              "      <td>1.00</td>\n",
              "      <td>0.00</td>\n",
              "      <td>0.00</td>\n",
              "      <td>0</td>\n",
              "    </tr>\n",
              "    <tr>\n",
              "      <th>3</th>\n",
              "      <td>0</td>\n",
              "      <td>1</td>\n",
              "      <td>22</td>\n",
              "      <td>9</td>\n",
              "      <td>232</td>\n",
              "      <td>8153</td>\n",
              "      <td>0</td>\n",
              "      <td>0</td>\n",
              "      <td>0</td>\n",
              "      <td>0</td>\n",
              "      <td>...</td>\n",
              "      <td>255</td>\n",
              "      <td>1.00</td>\n",
              "      <td>0.00</td>\n",
              "      <td>0.03</td>\n",
              "      <td>0.04</td>\n",
              "      <td>0.03</td>\n",
              "      <td>0.01</td>\n",
              "      <td>0.00</td>\n",
              "      <td>0.01</td>\n",
              "      <td>1</td>\n",
              "    </tr>\n",
              "    <tr>\n",
              "      <th>4</th>\n",
              "      <td>0</td>\n",
              "      <td>1</td>\n",
              "      <td>22</td>\n",
              "      <td>9</td>\n",
              "      <td>199</td>\n",
              "      <td>420</td>\n",
              "      <td>0</td>\n",
              "      <td>0</td>\n",
              "      <td>0</td>\n",
              "      <td>0</td>\n",
              "      <td>...</td>\n",
              "      <td>255</td>\n",
              "      <td>1.00</td>\n",
              "      <td>0.00</td>\n",
              "      <td>0.00</td>\n",
              "      <td>0.00</td>\n",
              "      <td>0.00</td>\n",
              "      <td>0.00</td>\n",
              "      <td>0.00</td>\n",
              "      <td>0.00</td>\n",
              "      <td>1</td>\n",
              "    </tr>\n",
              "  </tbody>\n",
              "</table>\n",
              "<p>5 rows × 41 columns</p>\n",
              "</div>"
            ],
            "text/plain": [
              "   duration  protocol_type  service  flag  src_bytes  dst_bytes  land  \\\n",
              "0         0              1       19     9        491          0     0   \n",
              "1         0              2       41     9        146          0     0   \n",
              "2         0              1       46     5          0          0     0   \n",
              "3         0              1       22     9        232       8153     0   \n",
              "4         0              1       22     9        199        420     0   \n",
              "\n",
              "   wrong_fragment  urgent  hot  ...  dst_host_srv_count  \\\n",
              "0               0       0    0  ...                  25   \n",
              "1               0       0    0  ...                   1   \n",
              "2               0       0    0  ...                  26   \n",
              "3               0       0    0  ...                 255   \n",
              "4               0       0    0  ...                 255   \n",
              "\n",
              "   dst_host_same_srv_rate  dst_host_diff_srv_rate  \\\n",
              "0                    0.17                    0.03   \n",
              "1                    0.00                    0.60   \n",
              "2                    0.10                    0.05   \n",
              "3                    1.00                    0.00   \n",
              "4                    1.00                    0.00   \n",
              "\n",
              "   dst_host_same_src_port_rate  dst_host_srv_diff_host_rate  \\\n",
              "0                         0.17                         0.00   \n",
              "1                         0.88                         0.00   \n",
              "2                         0.00                         0.00   \n",
              "3                         0.03                         0.04   \n",
              "4                         0.00                         0.00   \n",
              "\n",
              "   dst_host_serror_rate  dst_host_srv_serror_rate  dst_host_rerror_rate  \\\n",
              "0                  0.00                      0.00                  0.05   \n",
              "1                  0.00                      0.00                  0.00   \n",
              "2                  1.00                      1.00                  0.00   \n",
              "3                  0.03                      0.01                  0.00   \n",
              "4                  0.00                      0.00                  0.00   \n",
              "\n",
              "   dst_host_srv_rerror_rate  class  \n",
              "0                      0.00      1  \n",
              "1                      0.00      1  \n",
              "2                      0.00      0  \n",
              "3                      0.01      1  \n",
              "4                      0.00      1  \n",
              "\n",
              "[5 rows x 41 columns]"
            ]
          },
          "execution_count": 18,
          "metadata": {},
          "output_type": "execute_result"
        }
      ],
      "source": [
        "train.head()"
      ]
    },
    {
      "cell_type": "code",
      "execution_count": 19,
      "metadata": {
        "id": "RkUF2v_zHdIu"
      },
      "outputs": [],
      "source": [
        "X_train = train.drop(['class'], axis=1)\n",
        "Y_train = train['class']"
      ]
    },
    {
      "cell_type": "code",
      "execution_count": 20,
      "metadata": {
        "colab": {
          "base_uri": "https://localhost:8080/"
        },
        "id": "_X4hu-14H-JC",
        "outputId": "2e437ea9-ebbc-4f82-8022-de83c70cf5d5"
      },
      "outputs": [
        {
          "data": {
            "text/plain": [
              "['protocol_type',\n",
              " 'service',\n",
              " 'flag',\n",
              " 'src_bytes',\n",
              " 'dst_bytes',\n",
              " 'count',\n",
              " 'same_srv_rate',\n",
              " 'dst_host_srv_count',\n",
              " 'dst_host_same_srv_rate',\n",
              " 'dst_host_same_src_port_rate']"
            ]
          },
          "execution_count": 20,
          "metadata": {},
          "output_type": "execute_result"
        }
      ],
      "source": [
        "rfc = RandomForestClassifier()\n",
        "\n",
        "rfe = RFE(rfc, n_features_to_select=10)\n",
        "rfe = rfe.fit(X_train, Y_train)\n",
        "\n",
        "feature_map = [(i, v) for i, v in itertools.zip_longest(rfe.get_support(), X_train.columns)]\n",
        "selected_features = [v for i, v in feature_map if i==True]\n",
        "\n",
        "selected_features"
      ]
    },
    {
      "cell_type": "code",
      "execution_count": 21,
      "metadata": {
        "id": "5SJWi_drIAH9"
      },
      "outputs": [],
      "source": [
        "X_train = X_train[selected_features]"
      ]
    },
    {
      "cell_type": "code",
      "execution_count": 22,
      "metadata": {
        "id": "XybAX9KHKMNF"
      },
      "outputs": [],
      "source": [
        "scale = StandardScaler()\n",
        "X_train = scale.fit_transform(X_train)\n",
        "test = scale.fit_transform(test)"
      ]
    },
    {
      "cell_type": "code",
      "execution_count": 23,
      "metadata": {
        "id": "oFgPph7BKQPy"
      },
      "outputs": [],
      "source": [
        "x_train, x_test, y_train, y_test = train_test_split(X_train, Y_train, train_size=0.70, random_state=2)"
      ]
    },
    {
      "cell_type": "code",
      "execution_count": 24,
      "metadata": {
        "colab": {
          "base_uri": "https://localhost:8080/"
        },
        "id": "SEfEZ0XNPxHW",
        "outputId": "bd3cd6e2-ef3c-41e3-849a-7c3995c43d1f"
      },
      "outputs": [
        {
          "data": {
            "text/plain": [
              "(17634, 10)"
            ]
          },
          "execution_count": 24,
          "metadata": {},
          "output_type": "execute_result"
        }
      ],
      "source": [
        "x_train.shape"
      ]
    },
    {
      "cell_type": "code",
      "execution_count": 25,
      "metadata": {
        "colab": {
          "base_uri": "https://localhost:8080/"
        },
        "id": "fpuItU4YP6GI",
        "outputId": "c3779c7b-8121-403e-e4c5-288a2f02d48a"
      },
      "outputs": [
        {
          "data": {
            "text/plain": [
              "(7558, 10)"
            ]
          },
          "execution_count": 25,
          "metadata": {},
          "output_type": "execute_result"
        }
      ],
      "source": [
        "x_test.shape"
      ]
    },
    {
      "cell_type": "code",
      "execution_count": 26,
      "metadata": {
        "colab": {
          "base_uri": "https://localhost:8080/"
        },
        "id": "uoPQFo8OP8mV",
        "outputId": "b43f73cd-fac0-48d3-aa6d-36b9fee50f1a"
      },
      "outputs": [
        {
          "data": {
            "text/plain": [
              "(17634,)"
            ]
          },
          "execution_count": 26,
          "metadata": {},
          "output_type": "execute_result"
        }
      ],
      "source": [
        "y_train.shape"
      ]
    },
    {
      "cell_type": "code",
      "execution_count": 27,
      "metadata": {
        "colab": {
          "base_uri": "https://localhost:8080/"
        },
        "id": "SkZ7g6NJP__q",
        "outputId": "0cf523be-58ab-4224-c2ac-01c48235d890"
      },
      "outputs": [
        {
          "data": {
            "text/plain": [
              "(7558,)"
            ]
          },
          "execution_count": 27,
          "metadata": {},
          "output_type": "execute_result"
        }
      ],
      "source": [
        "y_test.shape"
      ]
    },
    {
      "cell_type": "code",
      "execution_count": 28,
      "metadata": {
        "id": "Xk-loIvmPjJ7"
      },
      "outputs": [],
      "source": [
        "import time"
      ]
    },
    {
      "cell_type": "code",
      "execution_count": 29,
      "metadata": {
        "colab": {
          "base_uri": "https://localhost:8080/"
        },
        "id": "IoY0WU1cPe0a",
        "outputId": "ba331fc5-0883-4cdb-83bf-b4b33743aad1"
      },
      "outputs": [
        {
          "name": "stdout",
          "output_type": "stream",
          "text": [
            "Training time:  0.050872802734375\n"
          ]
        }
      ],
      "source": [
        "from sklearn.linear_model import LogisticRegression\n",
        "\n",
        "clfl = LogisticRegression(max_iter = 1200000)\n",
        "start_time = time.time()\n",
        "clfl.fit(x_train, y_train.values.ravel())\n",
        "end_time = time.time()\n",
        "print(\"Training time: \", end_time-start_time)\n"
      ]
    },
    {
      "cell_type": "markdown",
      "metadata": {
        "id": "LibaJrWaqi0p"
      },
      "source": [
        "Naive Bayes"
      ]
    },
    {
      "cell_type": "code",
      "execution_count": 30,
      "metadata": {
        "colab": {
          "base_uri": "https://localhost:8080/"
        },
        "id": "SAxUFGnvqhT-",
        "outputId": "6dcb7b72-9e8b-42d7-abee-65d51b3b93a8"
      },
      "outputs": [
        {
          "name": "stdout",
          "output_type": "stream",
          "text": [
            "Training time:  0.00990748405456543\n"
          ]
        }
      ],
      "source": [
        "from sklearn.naive_bayes import GaussianNB\n",
        "import time\n",
        "\n",
        "# Naive Bayes modelini tanımlama\n",
        "nb_classifier = GaussianNB()\n",
        "\n",
        "# Eğitim süresini ölçme\n",
        "start_time = time.time()\n",
        "nb_classifier.fit(x_train, y_train.values.ravel())\n",
        "end_time = time.time()\n",
        "\n",
        "# Eğitim süresini yazdırma\n",
        "print(\"Training time: \", end_time - start_time)\n"
      ]
    },
    {
      "cell_type": "code",
      "execution_count": 31,
      "metadata": {
        "colab": {
          "base_uri": "https://localhost:8080/"
        },
        "id": "mpBzmlzgQKXC",
        "outputId": "095bf8bb-7a53-44e4-8a2a-55c51a3e228d"
      },
      "outputs": [
        {
          "name": "stdout",
          "output_type": "stream",
          "text": [
            "Testing time:  0.0040585994720458984\n"
          ]
        }
      ],
      "source": [
        "start_time = time.time()\n",
        "y_test_pred = clfl.predict(x_train)\n",
        "end_time = time.time()\n",
        "print(\"Testing time: \", end_time-start_time)"
      ]
    },
    {
      "cell_type": "code",
      "execution_count": 32,
      "metadata": {
        "colab": {
          "base_uri": "https://localhost:8080/"
        },
        "id": "Dpukl9qKqxdN",
        "outputId": "05f6e66b-7b2f-416e-ccfb-75d74f219cbf"
      },
      "outputs": [
        {
          "name": "stdout",
          "output_type": "stream",
          "text": [
            "Testing time:  0.0\n"
          ]
        }
      ],
      "source": [
        "import time\n",
        "\n",
        "# Test süresini ölçme\n",
        "start_time = time.time()\n",
        "y_test_pred = nb_classifier.predict(x_test)\n",
        "end_time = time.time()\n",
        "\n",
        "# Test süresini yazdırma\n",
        "print(\"Testing time: \", end_time - start_time)\n"
      ]
    },
    {
      "cell_type": "code",
      "execution_count": 33,
      "metadata": {
        "colab": {
          "base_uri": "https://localhost:8080/",
          "height": 75
        },
        "id": "PZtTjM0-KUpA",
        "outputId": "4c2d1afd-e4c9-42f3-9296-7bc1b1e2ec06"
      },
      "outputs": [
        {
          "data": {
            "text/html": [
              "<style>#sk-container-id-1 {\n",
              "  /* Definition of color scheme common for light and dark mode */\n",
              "  --sklearn-color-text: black;\n",
              "  --sklearn-color-line: gray;\n",
              "  /* Definition of color scheme for unfitted estimators */\n",
              "  --sklearn-color-unfitted-level-0: #fff5e6;\n",
              "  --sklearn-color-unfitted-level-1: #f6e4d2;\n",
              "  --sklearn-color-unfitted-level-2: #ffe0b3;\n",
              "  --sklearn-color-unfitted-level-3: chocolate;\n",
              "  /* Definition of color scheme for fitted estimators */\n",
              "  --sklearn-color-fitted-level-0: #f0f8ff;\n",
              "  --sklearn-color-fitted-level-1: #d4ebff;\n",
              "  --sklearn-color-fitted-level-2: #b3dbfd;\n",
              "  --sklearn-color-fitted-level-3: cornflowerblue;\n",
              "\n",
              "  /* Specific color for light theme */\n",
              "  --sklearn-color-text-on-default-background: var(--sg-text-color, var(--theme-code-foreground, var(--jp-content-font-color1, black)));\n",
              "  --sklearn-color-background: var(--sg-background-color, var(--theme-background, var(--jp-layout-color0, white)));\n",
              "  --sklearn-color-border-box: var(--sg-text-color, var(--theme-code-foreground, var(--jp-content-font-color1, black)));\n",
              "  --sklearn-color-icon: #696969;\n",
              "\n",
              "  @media (prefers-color-scheme: dark) {\n",
              "    /* Redefinition of color scheme for dark theme */\n",
              "    --sklearn-color-text-on-default-background: var(--sg-text-color, var(--theme-code-foreground, var(--jp-content-font-color1, white)));\n",
              "    --sklearn-color-background: var(--sg-background-color, var(--theme-background, var(--jp-layout-color0, #111)));\n",
              "    --sklearn-color-border-box: var(--sg-text-color, var(--theme-code-foreground, var(--jp-content-font-color1, white)));\n",
              "    --sklearn-color-icon: #878787;\n",
              "  }\n",
              "}\n",
              "\n",
              "#sk-container-id-1 {\n",
              "  color: var(--sklearn-color-text);\n",
              "}\n",
              "\n",
              "#sk-container-id-1 pre {\n",
              "  padding: 0;\n",
              "}\n",
              "\n",
              "#sk-container-id-1 input.sk-hidden--visually {\n",
              "  border: 0;\n",
              "  clip: rect(1px 1px 1px 1px);\n",
              "  clip: rect(1px, 1px, 1px, 1px);\n",
              "  height: 1px;\n",
              "  margin: -1px;\n",
              "  overflow: hidden;\n",
              "  padding: 0;\n",
              "  position: absolute;\n",
              "  width: 1px;\n",
              "}\n",
              "\n",
              "#sk-container-id-1 div.sk-dashed-wrapped {\n",
              "  border: 1px dashed var(--sklearn-color-line);\n",
              "  margin: 0 0.4em 0.5em 0.4em;\n",
              "  box-sizing: border-box;\n",
              "  padding-bottom: 0.4em;\n",
              "  background-color: var(--sklearn-color-background);\n",
              "}\n",
              "\n",
              "#sk-container-id-1 div.sk-container {\n",
              "  /* jupyter's `normalize.less` sets `[hidden] { display: none; }`\n",
              "     but bootstrap.min.css set `[hidden] { display: none !important; }`\n",
              "     so we also need the `!important` here to be able to override the\n",
              "     default hidden behavior on the sphinx rendered scikit-learn.org.\n",
              "     See: https://github.com/scikit-learn/scikit-learn/issues/21755 */\n",
              "  display: inline-block !important;\n",
              "  position: relative;\n",
              "}\n",
              "\n",
              "#sk-container-id-1 div.sk-text-repr-fallback {\n",
              "  display: none;\n",
              "}\n",
              "\n",
              "div.sk-parallel-item,\n",
              "div.sk-serial,\n",
              "div.sk-item {\n",
              "  /* draw centered vertical line to link estimators */\n",
              "  background-image: linear-gradient(var(--sklearn-color-text-on-default-background), var(--sklearn-color-text-on-default-background));\n",
              "  background-size: 2px 100%;\n",
              "  background-repeat: no-repeat;\n",
              "  background-position: center center;\n",
              "}\n",
              "\n",
              "/* Parallel-specific style estimator block */\n",
              "\n",
              "#sk-container-id-1 div.sk-parallel-item::after {\n",
              "  content: \"\";\n",
              "  width: 100%;\n",
              "  border-bottom: 2px solid var(--sklearn-color-text-on-default-background);\n",
              "  flex-grow: 1;\n",
              "}\n",
              "\n",
              "#sk-container-id-1 div.sk-parallel {\n",
              "  display: flex;\n",
              "  align-items: stretch;\n",
              "  justify-content: center;\n",
              "  background-color: var(--sklearn-color-background);\n",
              "  position: relative;\n",
              "}\n",
              "\n",
              "#sk-container-id-1 div.sk-parallel-item {\n",
              "  display: flex;\n",
              "  flex-direction: column;\n",
              "}\n",
              "\n",
              "#sk-container-id-1 div.sk-parallel-item:first-child::after {\n",
              "  align-self: flex-end;\n",
              "  width: 50%;\n",
              "}\n",
              "\n",
              "#sk-container-id-1 div.sk-parallel-item:last-child::after {\n",
              "  align-self: flex-start;\n",
              "  width: 50%;\n",
              "}\n",
              "\n",
              "#sk-container-id-1 div.sk-parallel-item:only-child::after {\n",
              "  width: 0;\n",
              "}\n",
              "\n",
              "/* Serial-specific style estimator block */\n",
              "\n",
              "#sk-container-id-1 div.sk-serial {\n",
              "  display: flex;\n",
              "  flex-direction: column;\n",
              "  align-items: center;\n",
              "  background-color: var(--sklearn-color-background);\n",
              "  padding-right: 1em;\n",
              "  padding-left: 1em;\n",
              "}\n",
              "\n",
              "\n",
              "/* Toggleable style: style used for estimator/Pipeline/ColumnTransformer box that is\n",
              "clickable and can be expanded/collapsed.\n",
              "- Pipeline and ColumnTransformer use this feature and define the default style\n",
              "- Estimators will overwrite some part of the style using the `sk-estimator` class\n",
              "*/\n",
              "\n",
              "/* Pipeline and ColumnTransformer style (default) */\n",
              "\n",
              "#sk-container-id-1 div.sk-toggleable {\n",
              "  /* Default theme specific background. It is overwritten whether we have a\n",
              "  specific estimator or a Pipeline/ColumnTransformer */\n",
              "  background-color: var(--sklearn-color-background);\n",
              "}\n",
              "\n",
              "/* Toggleable label */\n",
              "#sk-container-id-1 label.sk-toggleable__label {\n",
              "  cursor: pointer;\n",
              "  display: block;\n",
              "  width: 100%;\n",
              "  margin-bottom: 0;\n",
              "  padding: 0.5em;\n",
              "  box-sizing: border-box;\n",
              "  text-align: center;\n",
              "}\n",
              "\n",
              "#sk-container-id-1 label.sk-toggleable__label-arrow:before {\n",
              "  /* Arrow on the left of the label */\n",
              "  content: \"▸\";\n",
              "  float: left;\n",
              "  margin-right: 0.25em;\n",
              "  color: var(--sklearn-color-icon);\n",
              "}\n",
              "\n",
              "#sk-container-id-1 label.sk-toggleable__label-arrow:hover:before {\n",
              "  color: var(--sklearn-color-text);\n",
              "}\n",
              "\n",
              "/* Toggleable content - dropdown */\n",
              "\n",
              "#sk-container-id-1 div.sk-toggleable__content {\n",
              "  max-height: 0;\n",
              "  max-width: 0;\n",
              "  overflow: hidden;\n",
              "  text-align: left;\n",
              "  /* unfitted */\n",
              "  background-color: var(--sklearn-color-unfitted-level-0);\n",
              "}\n",
              "\n",
              "#sk-container-id-1 div.sk-toggleable__content.fitted {\n",
              "  /* fitted */\n",
              "  background-color: var(--sklearn-color-fitted-level-0);\n",
              "}\n",
              "\n",
              "#sk-container-id-1 div.sk-toggleable__content pre {\n",
              "  margin: 0.2em;\n",
              "  border-radius: 0.25em;\n",
              "  color: var(--sklearn-color-text);\n",
              "  /* unfitted */\n",
              "  background-color: var(--sklearn-color-unfitted-level-0);\n",
              "}\n",
              "\n",
              "#sk-container-id-1 div.sk-toggleable__content.fitted pre {\n",
              "  /* unfitted */\n",
              "  background-color: var(--sklearn-color-fitted-level-0);\n",
              "}\n",
              "\n",
              "#sk-container-id-1 input.sk-toggleable__control:checked~div.sk-toggleable__content {\n",
              "  /* Expand drop-down */\n",
              "  max-height: 200px;\n",
              "  max-width: 100%;\n",
              "  overflow: auto;\n",
              "}\n",
              "\n",
              "#sk-container-id-1 input.sk-toggleable__control:checked~label.sk-toggleable__label-arrow:before {\n",
              "  content: \"▾\";\n",
              "}\n",
              "\n",
              "/* Pipeline/ColumnTransformer-specific style */\n",
              "\n",
              "#sk-container-id-1 div.sk-label input.sk-toggleable__control:checked~label.sk-toggleable__label {\n",
              "  color: var(--sklearn-color-text);\n",
              "  background-color: var(--sklearn-color-unfitted-level-2);\n",
              "}\n",
              "\n",
              "#sk-container-id-1 div.sk-label.fitted input.sk-toggleable__control:checked~label.sk-toggleable__label {\n",
              "  background-color: var(--sklearn-color-fitted-level-2);\n",
              "}\n",
              "\n",
              "/* Estimator-specific style */\n",
              "\n",
              "/* Colorize estimator box */\n",
              "#sk-container-id-1 div.sk-estimator input.sk-toggleable__control:checked~label.sk-toggleable__label {\n",
              "  /* unfitted */\n",
              "  background-color: var(--sklearn-color-unfitted-level-2);\n",
              "}\n",
              "\n",
              "#sk-container-id-1 div.sk-estimator.fitted input.sk-toggleable__control:checked~label.sk-toggleable__label {\n",
              "  /* fitted */\n",
              "  background-color: var(--sklearn-color-fitted-level-2);\n",
              "}\n",
              "\n",
              "#sk-container-id-1 div.sk-label label.sk-toggleable__label,\n",
              "#sk-container-id-1 div.sk-label label {\n",
              "  /* The background is the default theme color */\n",
              "  color: var(--sklearn-color-text-on-default-background);\n",
              "}\n",
              "\n",
              "/* On hover, darken the color of the background */\n",
              "#sk-container-id-1 div.sk-label:hover label.sk-toggleable__label {\n",
              "  color: var(--sklearn-color-text);\n",
              "  background-color: var(--sklearn-color-unfitted-level-2);\n",
              "}\n",
              "\n",
              "/* Label box, darken color on hover, fitted */\n",
              "#sk-container-id-1 div.sk-label.fitted:hover label.sk-toggleable__label.fitted {\n",
              "  color: var(--sklearn-color-text);\n",
              "  background-color: var(--sklearn-color-fitted-level-2);\n",
              "}\n",
              "\n",
              "/* Estimator label */\n",
              "\n",
              "#sk-container-id-1 div.sk-label label {\n",
              "  font-family: monospace;\n",
              "  font-weight: bold;\n",
              "  display: inline-block;\n",
              "  line-height: 1.2em;\n",
              "}\n",
              "\n",
              "#sk-container-id-1 div.sk-label-container {\n",
              "  text-align: center;\n",
              "}\n",
              "\n",
              "/* Estimator-specific */\n",
              "#sk-container-id-1 div.sk-estimator {\n",
              "  font-family: monospace;\n",
              "  border: 1px dotted var(--sklearn-color-border-box);\n",
              "  border-radius: 0.25em;\n",
              "  box-sizing: border-box;\n",
              "  margin-bottom: 0.5em;\n",
              "  /* unfitted */\n",
              "  background-color: var(--sklearn-color-unfitted-level-0);\n",
              "}\n",
              "\n",
              "#sk-container-id-1 div.sk-estimator.fitted {\n",
              "  /* fitted */\n",
              "  background-color: var(--sklearn-color-fitted-level-0);\n",
              "}\n",
              "\n",
              "/* on hover */\n",
              "#sk-container-id-1 div.sk-estimator:hover {\n",
              "  /* unfitted */\n",
              "  background-color: var(--sklearn-color-unfitted-level-2);\n",
              "}\n",
              "\n",
              "#sk-container-id-1 div.sk-estimator.fitted:hover {\n",
              "  /* fitted */\n",
              "  background-color: var(--sklearn-color-fitted-level-2);\n",
              "}\n",
              "\n",
              "/* Specification for estimator info (e.g. \"i\" and \"?\") */\n",
              "\n",
              "/* Common style for \"i\" and \"?\" */\n",
              "\n",
              ".sk-estimator-doc-link,\n",
              "a:link.sk-estimator-doc-link,\n",
              "a:visited.sk-estimator-doc-link {\n",
              "  float: right;\n",
              "  font-size: smaller;\n",
              "  line-height: 1em;\n",
              "  font-family: monospace;\n",
              "  background-color: var(--sklearn-color-background);\n",
              "  border-radius: 1em;\n",
              "  height: 1em;\n",
              "  width: 1em;\n",
              "  text-decoration: none !important;\n",
              "  margin-left: 1ex;\n",
              "  /* unfitted */\n",
              "  border: var(--sklearn-color-unfitted-level-1) 1pt solid;\n",
              "  color: var(--sklearn-color-unfitted-level-1);\n",
              "}\n",
              "\n",
              ".sk-estimator-doc-link.fitted,\n",
              "a:link.sk-estimator-doc-link.fitted,\n",
              "a:visited.sk-estimator-doc-link.fitted {\n",
              "  /* fitted */\n",
              "  border: var(--sklearn-color-fitted-level-1) 1pt solid;\n",
              "  color: var(--sklearn-color-fitted-level-1);\n",
              "}\n",
              "\n",
              "/* On hover */\n",
              "div.sk-estimator:hover .sk-estimator-doc-link:hover,\n",
              ".sk-estimator-doc-link:hover,\n",
              "div.sk-label-container:hover .sk-estimator-doc-link:hover,\n",
              ".sk-estimator-doc-link:hover {\n",
              "  /* unfitted */\n",
              "  background-color: var(--sklearn-color-unfitted-level-3);\n",
              "  color: var(--sklearn-color-background);\n",
              "  text-decoration: none;\n",
              "}\n",
              "\n",
              "div.sk-estimator.fitted:hover .sk-estimator-doc-link.fitted:hover,\n",
              ".sk-estimator-doc-link.fitted:hover,\n",
              "div.sk-label-container:hover .sk-estimator-doc-link.fitted:hover,\n",
              ".sk-estimator-doc-link.fitted:hover {\n",
              "  /* fitted */\n",
              "  background-color: var(--sklearn-color-fitted-level-3);\n",
              "  color: var(--sklearn-color-background);\n",
              "  text-decoration: none;\n",
              "}\n",
              "\n",
              "/* Span, style for the box shown on hovering the info icon */\n",
              ".sk-estimator-doc-link span {\n",
              "  display: none;\n",
              "  z-index: 9999;\n",
              "  position: relative;\n",
              "  font-weight: normal;\n",
              "  right: .2ex;\n",
              "  padding: .5ex;\n",
              "  margin: .5ex;\n",
              "  width: min-content;\n",
              "  min-width: 20ex;\n",
              "  max-width: 50ex;\n",
              "  color: var(--sklearn-color-text);\n",
              "  box-shadow: 2pt 2pt 4pt #999;\n",
              "  /* unfitted */\n",
              "  background: var(--sklearn-color-unfitted-level-0);\n",
              "  border: .5pt solid var(--sklearn-color-unfitted-level-3);\n",
              "}\n",
              "\n",
              ".sk-estimator-doc-link.fitted span {\n",
              "  /* fitted */\n",
              "  background: var(--sklearn-color-fitted-level-0);\n",
              "  border: var(--sklearn-color-fitted-level-3);\n",
              "}\n",
              "\n",
              ".sk-estimator-doc-link:hover span {\n",
              "  display: block;\n",
              "}\n",
              "\n",
              "/* \"?\"-specific style due to the `<a>` HTML tag */\n",
              "\n",
              "#sk-container-id-1 a.estimator_doc_link {\n",
              "  float: right;\n",
              "  font-size: 1rem;\n",
              "  line-height: 1em;\n",
              "  font-family: monospace;\n",
              "  background-color: var(--sklearn-color-background);\n",
              "  border-radius: 1rem;\n",
              "  height: 1rem;\n",
              "  width: 1rem;\n",
              "  text-decoration: none;\n",
              "  /* unfitted */\n",
              "  color: var(--sklearn-color-unfitted-level-1);\n",
              "  border: var(--sklearn-color-unfitted-level-1) 1pt solid;\n",
              "}\n",
              "\n",
              "#sk-container-id-1 a.estimator_doc_link.fitted {\n",
              "  /* fitted */\n",
              "  border: var(--sklearn-color-fitted-level-1) 1pt solid;\n",
              "  color: var(--sklearn-color-fitted-level-1);\n",
              "}\n",
              "\n",
              "/* On hover */\n",
              "#sk-container-id-1 a.estimator_doc_link:hover {\n",
              "  /* unfitted */\n",
              "  background-color: var(--sklearn-color-unfitted-level-3);\n",
              "  color: var(--sklearn-color-background);\n",
              "  text-decoration: none;\n",
              "}\n",
              "\n",
              "#sk-container-id-1 a.estimator_doc_link.fitted:hover {\n",
              "  /* fitted */\n",
              "  background-color: var(--sklearn-color-fitted-level-3);\n",
              "}\n",
              "</style><div id=\"sk-container-id-1\" class=\"sk-top-container\"><div class=\"sk-text-repr-fallback\"><pre>LogisticRegression(random_state=42)</pre><b>In a Jupyter environment, please rerun this cell to show the HTML representation or trust the notebook. <br />On GitHub, the HTML representation is unable to render, please try loading this page with nbviewer.org.</b></div><div class=\"sk-container\" hidden><div class=\"sk-item\"><div class=\"sk-estimator fitted sk-toggleable\"><input class=\"sk-toggleable__control sk-hidden--visually\" id=\"sk-estimator-id-1\" type=\"checkbox\" checked><label for=\"sk-estimator-id-1\" class=\"sk-toggleable__label fitted sk-toggleable__label-arrow fitted\">&nbsp;&nbsp;LogisticRegression<a class=\"sk-estimator-doc-link fitted\" rel=\"noreferrer\" target=\"_blank\" href=\"https://scikit-learn.org/1.5/modules/generated/sklearn.linear_model.LogisticRegression.html\">?<span>Documentation for LogisticRegression</span></a><span class=\"sk-estimator-doc-link fitted\">i<span>Fitted</span></span></label><div class=\"sk-toggleable__content fitted\"><pre>LogisticRegression(random_state=42)</pre></div> </div></div></div></div>"
            ],
            "text/plain": [
              "LogisticRegression(random_state=42)"
            ]
          },
          "execution_count": 33,
          "metadata": {},
          "output_type": "execute_result"
        }
      ],
      "source": [
        "lg_model = LogisticRegression(random_state = 42)\n",
        "lg_model.fit(x_train, y_train)"
      ]
    },
    {
      "cell_type": "code",
      "execution_count": 34,
      "metadata": {
        "id": "4XEEqhQJq-Bj"
      },
      "outputs": [],
      "source": [
        "from sklearn.naive_bayes import GaussianNB\n",
        "\n",
        "# Naive Bayes modelini tanımlayın\n",
        "nb_model = GaussianNB()\n",
        "\n",
        "# Modeli eğitin (fit)\n",
        "nb_model.fit(x_train, y_train)\n",
        "\n",
        "# Eğitim ve test veri setleri üzerinde doğruluk skorlarını hesaplayın\n",
        "nb_train = nb_model.score(x_train, y_train)\n",
        "nb_test = nb_model.score(x_test, y_test)\n"
      ]
    },
    {
      "cell_type": "code",
      "execution_count": 35,
      "metadata": {
        "colab": {
          "base_uri": "https://localhost:8080/"
        },
        "id": "qFyyThhGKXWN",
        "outputId": "10017bb5-e1a3-4592-8833-458d2f820879"
      },
      "outputs": [
        {
          "name": "stdout",
          "output_type": "stream",
          "text": [
            "Training Score: 0.9351253260746285\n",
            "Test Score: 0.9325218311722678\n"
          ]
        }
      ],
      "source": [
        "lg_train, lg_test = lg_model.score(x_train , y_train), lg_model.score(x_test , y_test)\n",
        "\n",
        "print(f\"Training Score: {lg_train}\")\n",
        "print(f\"Test Score: {lg_test}\")"
      ]
    },
    {
      "cell_type": "code",
      "execution_count": 36,
      "metadata": {
        "colab": {
          "base_uri": "https://localhost:8080/"
        },
        "id": "fprLEIbJwIon",
        "outputId": "477cf991-83c7-448f-fc3b-072574051ff7"
      },
      "outputs": [
        {
          "name": "stdout",
          "output_type": "stream",
          "text": [
            "Training Score: 0.9000226834524214\n",
            "Test Score: 0.8974596454088383\n"
          ]
        }
      ],
      "source": [
        "nb_train, nb_test = nb_model.score(x_train , y_train), nb_model.score(x_test , y_test)\n",
        "\n",
        "print(f\"Training Score: {nb_train}\")\n",
        "print(f\"Test Score: {nb_test}\")"
      ]
    },
    {
      "cell_type": "code",
      "execution_count": null,
      "metadata": {
        "id": "A4_aD321KZ8t"
      },
      "outputs": [],
      "source": []
    },
    {
      "cell_type": "code",
      "execution_count": null,
      "metadata": {
        "id": "C--bhOKLLUhY"
      },
      "outputs": [],
      "source": []
    },
    {
      "cell_type": "code",
      "execution_count": 37,
      "metadata": {
        "colab": {
          "base_uri": "https://localhost:8080/"
        },
        "id": "gy-b06p7MBWr",
        "outputId": "ccdcbe18-6260-44f4-83fa-e74b7f748024"
      },
      "outputs": [
        {
          "name": "stdout",
          "output_type": "stream",
          "text": [
            "Requirement already satisfied: optuna in c:\\python312\\lib\\site-packages (3.6.1)\n",
            "Requirement already satisfied: alembic>=1.5.0 in c:\\python312\\lib\\site-packages (from optuna) (1.13.1)\n",
            "Requirement already satisfied: colorlog in c:\\python312\\lib\\site-packages (from optuna) (6.8.2)\n",
            "Requirement already satisfied: numpy in c:\\python312\\lib\\site-packages (from optuna) (1.26.4)\n",
            "Requirement already satisfied: packaging>=20.0 in c:\\python312\\lib\\site-packages (from optuna) (24.1)\n",
            "Requirement already satisfied: sqlalchemy>=1.3.0 in c:\\python312\\lib\\site-packages (from optuna) (2.0.31)\n",
            "Requirement already satisfied: tqdm in c:\\python312\\lib\\site-packages (from optuna) (4.66.4)\n",
            "Requirement already satisfied: PyYAML in c:\\python312\\lib\\site-packages (from optuna) (6.0.1)\n",
            "Requirement already satisfied: Mako in c:\\python312\\lib\\site-packages (from alembic>=1.5.0->optuna) (1.3.5)\n",
            "Requirement already satisfied: typing-extensions>=4 in c:\\python312\\lib\\site-packages (from alembic>=1.5.0->optuna) (4.12.2)\n",
            "Requirement already satisfied: greenlet!=0.4.17 in c:\\python312\\lib\\site-packages (from sqlalchemy>=1.3.0->optuna) (3.0.3)\n",
            "Requirement already satisfied: colorama in c:\\users\\avcia\\appdata\\roaming\\python\\python312\\site-packages (from colorlog->optuna) (0.4.6)\n",
            "Requirement already satisfied: MarkupSafe>=0.9.2 in c:\\python312\\lib\\site-packages (from Mako->alembic>=1.5.0->optuna) (2.1.5)\n",
            "Note: you may need to restart the kernel to use updated packages.\n"
          ]
        }
      ],
      "source": [
        "pip install optuna"
      ]
    },
    {
      "cell_type": "code",
      "execution_count": 38,
      "metadata": {
        "id": "fgBSFobzMXFG"
      },
      "outputs": [],
      "source": [
        "import optuna\n",
        "optuna.logging.set_verbosity(optuna.logging.WARNING)"
      ]
    },
    {
      "cell_type": "code",
      "execution_count": null,
      "metadata": {
        "id": "baa4sQhkQTiQ"
      },
      "outputs": [],
      "source": []
    },
    {
      "cell_type": "code",
      "execution_count": null,
      "metadata": {
        "id": "vUuyGUB8QTBj"
      },
      "outputs": [],
      "source": []
    },
    {
      "cell_type": "code",
      "execution_count": null,
      "metadata": {
        "id": "tM0f_Q3LQlVO"
      },
      "outputs": [],
      "source": []
    },
    {
      "cell_type": "code",
      "execution_count": 39,
      "metadata": {
        "id": "B5VXAxXgMshD"
      },
      "outputs": [],
      "source": [
        "def objective(trial):\n",
        "    n_neighbors = trial.suggest_int('KNN_n_neighbors', 2, 16, log=False)\n",
        "    classifier_obj = KNeighborsClassifier(n_neighbors=n_neighbors)\n",
        "    classifier_obj.fit(x_train, y_train)\n",
        "    accuracy = classifier_obj.score(x_test, y_test)\n",
        "    return accuracy"
      ]
    },
    {
      "cell_type": "code",
      "execution_count": 40,
      "metadata": {
        "colab": {
          "base_uri": "https://localhost:8080/"
        },
        "id": "Xe1n5-LKOa-H",
        "outputId": "c0fcd4cd-b999-4c3f-b188-1fe359d770ba"
      },
      "outputs": [
        {
          "name": "stdout",
          "output_type": "stream",
          "text": [
            "FrozenTrial(number=0, state=1, values=[0.9786980682720297], datetime_start=datetime.datetime(2024, 6, 19, 22, 21, 7, 462329), datetime_complete=datetime.datetime(2024, 6, 19, 22, 21, 9, 893127), params={'KNN_n_neighbors': 13}, user_attrs={}, system_attrs={}, intermediate_values={}, distributions={'KNN_n_neighbors': IntDistribution(high=16, log=False, low=2, step=1)}, trial_id=0, value=None)\n"
          ]
        }
      ],
      "source": [
        "study_KNN = optuna.create_study(direction='maximize')\n",
        "study_KNN.optimize(objective, n_trials=1)\n",
        "print(study_KNN.best_trial)"
      ]
    },
    {
      "cell_type": "code",
      "execution_count": 41,
      "metadata": {
        "colab": {
          "base_uri": "https://localhost:8080/"
        },
        "id": "ILU3zF_tOcf5",
        "outputId": "7ba1b0c0-a9c8-4655-ac09-856932a6c41b"
      },
      "outputs": [
        {
          "name": "stdout",
          "output_type": "stream",
          "text": [
            "Train Score: 0.981569694907565\n",
            "Test Score: 0.9786980682720297\n"
          ]
        }
      ],
      "source": [
        "KNN_model = KNeighborsClassifier(n_neighbors=study_KNN.best_trial.params['KNN_n_neighbors'])\n",
        "KNN_model.fit(x_train, y_train)\n",
        "\n",
        "KNN_train, KNN_test = KNN_model.score(x_train, y_train), KNN_model.score(x_test, y_test)\n",
        "\n",
        "print(f\"Train Score: {KNN_train}\")\n",
        "print(f\"Test Score: {KNN_test}\")"
      ]
    },
    {
      "cell_type": "code",
      "execution_count": null,
      "metadata": {
        "id": "QzYm4qb_OfTt"
      },
      "outputs": [],
      "source": []
    },
    {
      "cell_type": "code",
      "execution_count": null,
      "metadata": {
        "id": "P_yziz0zOkP_"
      },
      "outputs": [],
      "source": []
    },
    {
      "cell_type": "code",
      "execution_count": 42,
      "metadata": {
        "colab": {
          "base_uri": "https://localhost:8080/"
        },
        "id": "pmi1fxFZQUuu",
        "outputId": "ae904f6d-9dd5-44ab-b007-4b2bc114fa0f"
      },
      "outputs": [
        {
          "name": "stdout",
          "output_type": "stream",
          "text": [
            "Training time:  0.05153226852416992\n"
          ]
        }
      ],
      "source": [
        "from sklearn.tree import DecisionTreeClassifier\n",
        "\n",
        "clfd = DecisionTreeClassifier(criterion =\"entropy\", max_depth = 4)\n",
        "start_time = time.time()\n",
        "clfd.fit(x_train, y_train.values.ravel())\n",
        "end_time = time.time()\n",
        "print(\"Training time: \", end_time-start_time)"
      ]
    },
    {
      "cell_type": "code",
      "execution_count": 43,
      "metadata": {
        "colab": {
          "base_uri": "https://localhost:8080/"
        },
        "id": "oiXZsQRlQaMm",
        "outputId": "08d80774-6f84-49db-99c5-dbc025213127"
      },
      "outputs": [
        {
          "name": "stdout",
          "output_type": "stream",
          "text": [
            "Testing time:  0.0019931793212890625\n"
          ]
        }
      ],
      "source": [
        "start_time = time.time()\n",
        "y_test_pred = clfd.predict(x_train)\n",
        "end_time = time.time()\n",
        "print(\"Testing time: \", end_time-start_time)"
      ]
    },
    {
      "cell_type": "code",
      "execution_count": 44,
      "metadata": {
        "id": "ZYEqgET3OlOs"
      },
      "outputs": [],
      "source": [
        "def objective(trial):\n",
        "    dt_max_depth = trial.suggest_int('dt_max_depth', 2, 32, log=False)\n",
        "    dt_max_features = trial.suggest_int('dt_max_features', 2, 10, log=False)\n",
        "    classifier_obj = DecisionTreeClassifier(max_features = dt_max_features, max_depth = dt_max_depth)\n",
        "    classifier_obj.fit(x_train, y_train)\n",
        "    accuracy = classifier_obj.score(x_test, y_test)\n",
        "    return accuracy"
      ]
    },
    {
      "cell_type": "code",
      "execution_count": 45,
      "metadata": {
        "colab": {
          "base_uri": "https://localhost:8080/"
        },
        "id": "Yag7e4lMOlwq",
        "outputId": "37c5a02e-5e96-4e96-910e-9857bca29807"
      },
      "outputs": [
        {
          "name": "stdout",
          "output_type": "stream",
          "text": [
            "FrozenTrial(number=16, state=1, values=[0.9957660756813972], datetime_start=datetime.datetime(2024, 6, 19, 22, 21, 25, 619193), datetime_complete=datetime.datetime(2024, 6, 19, 22, 21, 25, 677668), params={'dt_max_depth': 15, 'dt_max_features': 6}, user_attrs={}, system_attrs={}, intermediate_values={}, distributions={'dt_max_depth': IntDistribution(high=32, log=False, low=2, step=1), 'dt_max_features': IntDistribution(high=10, log=False, low=2, step=1)}, trial_id=16, value=None)\n"
          ]
        }
      ],
      "source": [
        "study_dt = optuna.create_study(direction='maximize')\n",
        "study_dt.optimize(objective, n_trials=30)\n",
        "print(study_dt.best_trial)"
      ]
    },
    {
      "cell_type": "code",
      "execution_count": 46,
      "metadata": {
        "colab": {
          "base_uri": "https://localhost:8080/"
        },
        "id": "HeR3qWf6On6k",
        "outputId": "849d7241-2fe5-4bc1-beff-048ef116770e"
      },
      "outputs": [
        {
          "name": "stdout",
          "output_type": "stream",
          "text": [
            "Train Score: 0.9997164568447318\n",
            "Test Score: 0.9931198729822704\n"
          ]
        }
      ],
      "source": [
        "dt = DecisionTreeClassifier(max_features = study_dt.best_trial.params['dt_max_features'], max_depth = study_dt.best_trial.params['dt_max_depth'])\n",
        "dt.fit(x_train, y_train)\n",
        "\n",
        "dt_train, dt_test = dt.score(x_train, y_train), dt.score(x_test, y_test)\n",
        "\n",
        "print(f\"Train Score: {dt_train}\")\n",
        "print(f\"Test Score: {dt_test}\")"
      ]
    },
    {
      "cell_type": "code",
      "execution_count": 48,
      "metadata": {
        "colab": {
          "base_uri": "https://localhost:8080/"
        },
        "id": "4aiIRTXTOtv3",
        "outputId": "2845df97-6c16-463f-fc0d-3d3789da4c3f"
      },
      "outputs": [
        {
          "name": "stdout",
          "output_type": "stream",
          "text": [
            "╒═════════════════════╤═══════════════╤══════════════╕\n",
            "│ Model               │   Train Score │   Test Score │\n",
            "╞═════════════════════╪═══════════════╪══════════════╡\n",
            "│ KNN                 │      0.98157  │     0.978698 │\n",
            "├─────────────────────┼───────────────┼──────────────┤\n",
            "│ Logistic Regression │      0.935125 │     0.932522 │\n",
            "├─────────────────────┼───────────────┼──────────────┤\n",
            "│ Decision Tree       │      0.999716 │     0.99312  │\n",
            "├─────────────────────┼───────────────┼──────────────┤\n",
            "│ Naive Bayes         │      0.900023 │     0.89746  │\n",
            "╘═════════════════════╧═══════════════╧══════════════╛\n"
          ]
        }
      ],
      "source": [
        "from tabulate import tabulate\n",
        "from sklearn.metrics import accuracy_score\n",
        "\n",
        "# Naive Bayes modeli ile eğitim ve test doğruluk skorlarını hesaplama\n",
        "nb_train_accuracy = accuracy_score(y_train, nb_classifier.predict(x_train))\n",
        "nb_test_accuracy = accuracy_score(y_test, nb_classifier.predict(x_test))\n",
        "\n",
        "# Verileri içeren liste oluşturma\n",
        "data = [\n",
        "    [\"KNN\", KNN_train, KNN_test],\n",
        "    [\"Logistic Regression\", lg_train, lg_test],\n",
        "    [\"Decision Tree\", dt_train, dt_test],\n",
        "    [\"Naive Bayes\", nb_train_accuracy, nb_test_accuracy]  # Naive Bayes için skorlar\n",
        "]\n",
        "\n",
        "# Sütun adlarını belirleme\n",
        "col_names = [\"Model\", \"Train Score\", \"Test Score\"]\n",
        "\n",
        "# Tabloyu yazdırma\n",
        "print(tabulate(data, headers=col_names, tablefmt=\"fancy_grid\"))\n"
      ]
    },
    {
      "cell_type": "code",
      "execution_count": null,
      "metadata": {
        "id": "MYLAqDX3RkZS"
      },
      "outputs": [],
      "source": []
    },
    {
      "cell_type": "code",
      "execution_count": 49,
      "metadata": {
        "id": "EPHitadgRkWR"
      },
      "outputs": [],
      "source": [
        "SEED = 42\n",
        "\n",
        "# Decision Tree Model\n",
        "dtc = DecisionTreeClassifier()\n",
        "\n",
        "# KNN\n",
        "knn = KNeighborsClassifier()\n",
        "\n",
        "# LOGISTIC REGRESSION MODEL\n",
        "\n",
        "lr = LogisticRegression()\n",
        "\n",
        "# Naive Bayes Model\n",
        "nb = GaussianNB()"
      ]
    },
    {
      "cell_type": "code",
      "execution_count": 50,
      "metadata": {
        "id": "xwaLhgY3sZnI"
      },
      "outputs": [],
      "source": [
        "from sklearn.model_selection import cross_val_score\n",
        "models = {\n",
        "    'KNeighborsClassifier': knn,\n",
        "    'LogisticRegression': lr,\n",
        "    'DecisionTreeClassifier': dtc,\n",
        "    'GaussianNB': nb\n",
        "}"
      ]
    },
    {
      "cell_type": "code",
      "execution_count": 51,
      "metadata": {
        "colab": {
          "base_uri": "https://localhost:8080/"
        },
        "id": "MZaBjyb4swQl",
        "outputId": "3cd377fa-3838-44ec-a63a-c936e225e474"
      },
      "outputs": [
        {
          "name": "stdout",
          "output_type": "stream",
          "text": [
            "Model: KNeighborsClassifier\n",
            "Precision scores: [0.99038462 0.98711063 0.98081023 0.98306878 0.98201058 0.98933902\n",
            " 0.98062433 0.99458874 0.98294243 0.99356913]\n",
            "Recall scores: [0.98722045 0.97870075 0.97976571 0.98935037 0.98933902 0.98828541\n",
            " 0.97018104 0.97870075 0.98189563 0.98722045]\n",
            "\n",
            "Model: LogisticRegression\n",
            "Precision scores: [0.92872117 0.93625914 0.95119306 0.93677555 0.92403746 0.93630573\n",
            " 0.93524416 0.93510638 0.93059937 0.94303797]\n",
            "Recall scores: [0.94355698 0.9542066  0.93397231 0.94675186 0.9466951  0.93929712\n",
            " 0.93823216 0.93610224 0.94249201 0.95207668]\n",
            "\n",
            "Model: DecisionTreeClassifier\n",
            "Precision scores: [0.9957265  0.9978678  0.99047619 0.99045599 0.99680171 0.99467519\n",
            " 0.99469214 1.         0.99360341 0.99361702]\n",
            "Recall scores: [0.9914803  0.99680511 0.99680511 0.99361022 0.99680171 0.99574015\n",
            " 0.99787007 0.99254526 0.99361022 0.99467519]\n",
            "\n",
            "Model: GaussianNB\n",
            "Precision scores: [0.86001918 0.86590038 0.8997955  0.87283237 0.8591954  0.87229862\n",
            " 0.87037037 0.87304688 0.86193672 0.86039886]\n",
            "Recall scores: [0.95527157 0.9627263  0.9371672  0.96485623 0.95628998 0.9456869\n",
            " 0.95101171 0.95207668 0.95740149 0.96485623]\n",
            "\n"
          ]
        }
      ],
      "source": [
        "# Skorları saklamak için bir sözlük oluşturma\n",
        "scores = {}\n",
        "\n",
        "# Her bir model için cross-validation skorlarını hesaplama\n",
        "for name, model in models.items():\n",
        "    scores[name] = {}\n",
        "    for scorer in ['precision', 'recall']:\n",
        "        if scorer == 'precision':\n",
        "            score = cross_val_score(model, x_train, y_train, cv=10, scoring='precision')\n",
        "        elif scorer == 'recall':\n",
        "            score = cross_val_score(model, x_train, y_train, cv=10, scoring='recall')\n",
        "        scores[name][scorer] = score\n",
        "\n",
        "# Sonuçları yazdırma\n",
        "for name, score_dict in scores.items():\n",
        "    print(f\"Model: {name}\")\n",
        "    for scorer, score_list in score_dict.items():\n",
        "        print(f\"{scorer.capitalize()} scores: {score_list}\")\n",
        "    print()"
      ]
    },
    {
      "cell_type": "code",
      "execution_count": 52,
      "metadata": {
        "colab": {
          "base_uri": "https://localhost:8080/"
        },
        "id": "5ZJK4pzMtIRC",
        "outputId": "79561961-0a06-4432-f4ec-ae3eff466a37"
      },
      "outputs": [
        {
          "name": "stdout",
          "output_type": "stream",
          "text": [
            "*************** KNeighborsClassifier Model Validation ***************\n",
            "Mean precision: 98.64 % +- 0.5\n",
            "\n",
            "Mean recall: 98.31 % +- 0.6\n",
            "\n",
            "**************** LogisticRegression Model Validation ****************\n",
            "Mean precision: 93.57 % +- 0.71\n",
            "\n",
            "Mean recall: 94.33 % +- 0.63\n",
            "\n",
            "************** DecisionTreeClassifier Model Validation **************\n",
            "Mean precision: 99.48 % +- 0.29\n",
            "\n",
            "Mean recall: 99.5 % +- 0.2\n",
            "\n",
            "******************** GaussianNB Model Validation ********************\n",
            "Mean precision: 86.96 % +- 1.14\n",
            "\n",
            "Mean recall: 95.47 % +- 0.83\n",
            "\n"
          ]
        }
      ],
      "source": [
        "def line(name):\n",
        "    return '*' * (25 - len(name) // 2)\n",
        "\n",
        "for name in models:\n",
        "    print(line(name), name, 'Model Validation', line(name))\n",
        "\n",
        "    for scorer in ['precision', 'recall']:\n",
        "        mean = round(np.mean(scores[name][scorer]) * 100, 2)\n",
        "        stdev = round(np.std(scores[name][scorer]) * 100, 2)\n",
        "        print(\"Mean {}:\".format(scorer), mean, \"%\", \"+-\", stdev)\n",
        "        print()"
      ]
    },
    {
      "cell_type": "code",
      "execution_count": 53,
      "metadata": {
        "colab": {
          "base_uri": "https://localhost:8080/",
          "height": 546
        },
        "id": "XTxL_teOtcCy",
        "outputId": "739e6a25-9c46-4cbd-e227-d39c35cbda32"
      },
      "outputs": [
        {
          "name": "stderr",
          "output_type": "stream",
          "text": [
            "C:\\Users\\avcia\\AppData\\Local\\Temp\\ipykernel_8424\\1073761507.py:4: FutureWarning: 'DataFrame.swapaxes' is deprecated and will be removed in a future version. Please use 'DataFrame.transpose' instead.\n",
            "  scores=pd.DataFrame(scores).swapaxes(\"index\", \"columns\")*100\n"
          ]
        },
        {
          "data": {
            "text/plain": [
              "<Axes: >"
            ]
          },
          "execution_count": 53,
          "metadata": {},
          "output_type": "execute_result"
        },
        {
          "data": {
            "image/png": "[encoded data removed]",
            "text/plain": [
              "<Figure size 2400x600 with 1 Axes>"
            ]
          },
          "metadata": {},
          "output_type": "display_data"
        }
      ],
      "source": [
        "for name in models:\n",
        "    for scorer in ['precision','recall']:\n",
        "        scores[name][scorer] = scores[name][scorer].mean()\n",
        "scores=pd.DataFrame(scores).swapaxes(\"index\", \"columns\")*100\n",
        "scores.plot(kind = \"bar\",  ylim=[80,100], figsize=(24,6), rot=0)"
      ]
    },
    {
      "cell_type": "code",
      "execution_count": 54,
      "metadata": {
        "id": "hCAwYKjKtkH_"
      },
      "outputs": [],
      "source": [
        "models = {\n",
        "    'KNeighborsClassifier': knn,\n",
        "    'LogisticRegression': lr,\n",
        "    'DecisionTreeClassifier': dtc,\n",
        "    'GaussianNB': nb\n",
        "}"
      ]
    },
    {
      "cell_type": "code",
      "execution_count": 55,
      "metadata": {
        "colab": {
          "base_uri": "https://localhost:8080/"
        },
        "id": "PpYv5H2mSQ8p",
        "outputId": "2e44cfcc-f083-4e39-ef30-b9d6f85fdfdf"
      },
      "outputs": [
        {
          "name": "stdout",
          "output_type": "stream",
          "text": [
            "Predictions complete.\n"
          ]
        }
      ],
      "source": [
        "preds={}\n",
        "for name in models:\n",
        "    models[name].fit(x_train, y_train)\n",
        "    preds[name] = models[name].predict(x_test)\n",
        "print(\"Predictions complete.\")"
      ]
    },
    {
      "cell_type": "code",
      "execution_count": 56,
      "metadata": {
        "colab": {
          "base_uri": "https://localhost:8080/"
        },
        "id": "PCl4HdVYttYO",
        "outputId": "11e65ea5-9ca0-44cd-e3bf-7b1c1ed0753c"
      },
      "outputs": [
        {
          "name": "stdout",
          "output_type": "stream",
          "text": [
            "*************** KNeighborsClassifier Model Testing ***************\n",
            "[[3447   51]\n",
            " [  66 3994]]\n",
            "---------------\n",
            "              precision    recall  f1-score   support\n",
            "\n",
            "      normal       0.98      0.99      0.98      3498\n",
            "     anamoly       0.99      0.98      0.99      4060\n",
            "\n",
            "    accuracy                           0.98      7558\n",
            "   macro avg       0.98      0.98      0.98      7558\n",
            "weighted avg       0.98      0.98      0.98      7558\n",
            "\n",
            "**************** LogisticRegression Model Testing ****************\n",
            "[[3229  269]\n",
            " [ 241 3819]]\n",
            "----------------\n",
            "              precision    recall  f1-score   support\n",
            "\n",
            "      normal       0.93      0.92      0.93      3498\n",
            "     anamoly       0.93      0.94      0.94      4060\n",
            "\n",
            "    accuracy                           0.93      7558\n",
            "   macro avg       0.93      0.93      0.93      7558\n",
            "weighted avg       0.93      0.93      0.93      7558\n",
            "\n",
            "************** DecisionTreeClassifier Model Testing **************\n",
            "[[3476   22]\n",
            " [  23 4037]]\n",
            "--------------\n",
            "              precision    recall  f1-score   support\n",
            "\n",
            "      normal       0.99      0.99      0.99      3498\n",
            "     anamoly       0.99      0.99      0.99      4060\n",
            "\n",
            "    accuracy                           0.99      7558\n",
            "   macro avg       0.99      0.99      0.99      7558\n",
            "weighted avg       0.99      0.99      0.99      7558\n",
            "\n",
            "******************** GaussianNB Model Testing ********************\n",
            "[[2914  584]\n",
            " [ 191 3869]]\n",
            "--------------------\n",
            "              precision    recall  f1-score   support\n",
            "\n",
            "      normal       0.94      0.83      0.88      3498\n",
            "     anamoly       0.87      0.95      0.91      4060\n",
            "\n",
            "    accuracy                           0.90      7558\n",
            "   macro avg       0.90      0.89      0.90      7558\n",
            "weighted avg       0.90      0.90      0.90      7558\n",
            "\n"
          ]
        }
      ],
      "source": [
        "from sklearn.metrics import confusion_matrix, classification_report, f1_score\n",
        "def line(name,sym=\"*\"):\n",
        "    return sym*(25-len(name)//2)\n",
        "target_names=[\"normal\",\"anamoly\"]\n",
        "for name in models:\n",
        "    print(line(name), name, 'Model Testing', line(name))\n",
        "    print(confusion_matrix(y_test, preds[name]))\n",
        "    print(line(name,'-'))\n",
        "    print(classification_report(y_test, preds[name], target_names=target_names))"
      ]
    },
    {
      "cell_type": "code",
      "execution_count": 57,
      "metadata": {
        "colab": {
          "base_uri": "https://localhost:8080/",
          "height": 546
        },
        "id": "YvXJPcz9txP2",
        "outputId": "b8487999-5a0b-445a-f059-bf3ea8e14f48"
      },
      "outputs": [
        {
          "data": {
            "text/plain": [
              "<Axes: >"
            ]
          },
          "execution_count": 57,
          "metadata": {},
          "output_type": "execute_result"
        },
        {
          "data": {
            "image/png": "[encoded data removed]",
            "text/plain": [
              "<Figure size 1000x600 with 1 Axes>"
            ]
          },
          "metadata": {},
          "output_type": "display_data"
        }
      ],
      "source": [
        "f1s = {}\n",
        "for name in models:\n",
        "    f1s[name]=f1_score(y_test, preds[name])\n",
        "f1s=pd.DataFrame(f1s.values(),index=f1s.keys(),columns=[\"F1-score\"])*100\n",
        "f1s.plot(kind = \"bar\",  ylim=[80,100], figsize=(10,6), rot=0)"
      ]
    },
    {
      "cell_type": "code",
      "execution_count": null,
      "metadata": {
        "id": "Hrlo5oioSm-0"
      },
      "outputs": [],
      "source": []
    }
  ],
  "metadata": {
    "colab": {
      "provenance": []
    },
    "kernelspec": {
      "display_name": "Python 3",
      "name": "python3"
    },
    "language_info": {
      "codemirror_mode": {
        "name": "ipython",
        "version": 3
      },
      "file_extension": ".py",
      "mimetype": "text/x-python",
      "name": "python",
      "nbconvert_exporter": "python",
      "pygments_lexer": "ipython3",
      "version": "3.12.4"
    }
  },
  "nbformat": 4,
  "nbformat_minor": 0
}
